{
 "cells": [
  {
   "cell_type": "markdown",
   "metadata": {
    "slideshow": {
     "slide_type": "slide"
    }
   },
   "source": [
    "# Exploratory data analysis (EDA) of regulated banks"
   ]
  },
  {
   "cell_type": "markdown",
   "metadata": {
    "slideshow": {
     "slide_type": "slide"
    }
   },
   "source": [
    "![](fdic_hq.jpeg)"
   ]
  },
  {
   "cell_type": "markdown",
   "metadata": {
    "slideshow": {
     "slide_type": "slide"
    }
   },
   "source": [
    "## 1. Data cleaning - analysis of costs of failed banks\n",
    "The dataset was retrieved on 10/22/2021 using download functionality. It contains information about recently (last 20 years) failed banks, i.e. name of the bank and IDs, date of restructuring and costs. \n",
    "* Link: https://www.fdic.gov/resources/resolutions/bank-failures/failed-bank-list/"
   ]
  },
  {
   "cell_type": "code",
   "execution_count": 5,
   "metadata": {},
   "outputs": [],
   "source": [
    "import numpy as np\n",
    "import pandas as pd\n",
    "import matplotlib.pyplot as plt\n",
    "import seaborn as sns\n",
    "sns.set()\n",
    "\n",
    "import warnings\n",
    "warnings.filterwarnings(\"ignore\")"
   ]
  },
  {
   "cell_type": "markdown",
   "metadata": {
    "slideshow": {
     "slide_type": "slide"
    }
   },
   "source": [
    "### 1.1 Imputing missing values of COSTS\n",
    "The data set had several issues that required data cleaning and transformation. First, loading the dataset, dropping unused columns and checking missing values."
   ]
  },
  {
   "cell_type": "code",
   "execution_count": 6,
   "metadata": {
    "slideshow": {
     "slide_type": "slide"
    }
   },
   "outputs": [
    {
     "data": {
      "text/plain": [
       "14"
      ]
     },
     "execution_count": 6,
     "metadata": {},
     "output_type": "execute_result"
    }
   ],
   "source": [
    "costs = pd.read_csv('../failure_costs/failed_banks.csv', index_col=0)\n",
    "costs.drop(['FIN', 'ID', 'RESTYPE1', 'SAVR' ], axis=1, inplace=True)\n",
    "costs.isnull().sum().sum()"
   ]
  },
  {
   "cell_type": "markdown",
   "metadata": {
    "slideshow": {
     "slide_type": "slide"
    }
   },
   "source": [
    "It appears that 14 failed banks have NaN for restructuring costs. These missing values can be imputed either with zeros, or column average, or, even better, average % of costs to assets, as restructuring a bigger bank is more expensive. Need to check how these missing values related to the type pf resolution, RESTYPE. As shown below, there are 2 types - ASSISTANCE and FAILURE"
   ]
  },
  {
   "cell_type": "code",
   "execution_count": 7,
   "metadata": {
    "slideshow": {
     "slide_type": "slide"
    }
   },
   "outputs": [
    {
     "data": {
      "text/html": [
       "<div>\n",
       "<style scoped>\n",
       "    .dataframe tbody tr th:only-of-type {\n",
       "        vertical-align: middle;\n",
       "    }\n",
       "\n",
       "    .dataframe tbody tr th {\n",
       "        vertical-align: top;\n",
       "    }\n",
       "\n",
       "    .dataframe thead th {\n",
       "        text-align: right;\n",
       "    }\n",
       "</style>\n",
       "<table border=\"1\" class=\"dataframe\">\n",
       "  <thead>\n",
       "    <tr style=\"text-align: right;\">\n",
       "      <th></th>\n",
       "      <th>CHCLASS1</th>\n",
       "      <th>CITYST</th>\n",
       "      <th>COST</th>\n",
       "      <th>FAILDATE</th>\n",
       "      <th>NAME</th>\n",
       "      <th>QBFASSET</th>\n",
       "      <th>QBFDEP</th>\n",
       "    </tr>\n",
       "    <tr>\n",
       "      <th>RESTYPE</th>\n",
       "      <th></th>\n",
       "      <th></th>\n",
       "      <th></th>\n",
       "      <th></th>\n",
       "      <th></th>\n",
       "      <th></th>\n",
       "      <th></th>\n",
       "    </tr>\n",
       "  </thead>\n",
       "  <tbody>\n",
       "    <tr>\n",
       "      <th>ASSISTANCE</th>\n",
       "      <td>13</td>\n",
       "      <td>13</td>\n",
       "      <td>0</td>\n",
       "      <td>13</td>\n",
       "      <td>13</td>\n",
       "      <td>13</td>\n",
       "      <td>13</td>\n",
       "    </tr>\n",
       "    <tr>\n",
       "      <th>FAILURE</th>\n",
       "      <td>564</td>\n",
       "      <td>564</td>\n",
       "      <td>563</td>\n",
       "      <td>564</td>\n",
       "      <td>564</td>\n",
       "      <td>564</td>\n",
       "      <td>564</td>\n",
       "    </tr>\n",
       "  </tbody>\n",
       "</table>\n",
       "</div>"
      ],
      "text/plain": [
       "            CHCLASS1  CITYST  COST  FAILDATE  NAME  QBFASSET  QBFDEP\n",
       "RESTYPE                                                             \n",
       "ASSISTANCE        13      13     0        13    13        13      13\n",
       "FAILURE          564     564   563       564   564       564     564"
      ]
     },
     "execution_count": 7,
     "metadata": {},
     "output_type": "execute_result"
    }
   ],
   "source": [
    "costs.groupby([costs['RESTYPE']]).count()"
   ]
  },
  {
   "cell_type": "markdown",
   "metadata": {
    "slideshow": {
     "slide_type": "slide"
    }
   },
   "source": [
    "Comparing groupings with missing values. It appears that all 13 ASSISTANCE cases have NaN for COST and thus it is warranted to impute these values with zeros. In other words, assistance is not a failure and there are no direct costs associated with bank's restructuring in this case. There is only one (\"NET FIRST NATIONAL BANK\") missing value in case of an actual FAILURE and it should probably be imputed with some kind of proxy for COST."
   ]
  },
  {
   "cell_type": "code",
   "execution_count": 8,
   "metadata": {
    "slideshow": {
     "slide_type": "slide"
    }
   },
   "outputs": [
    {
     "data": {
      "text/html": [
       "<div>\n",
       "<style scoped>\n",
       "    .dataframe tbody tr th:only-of-type {\n",
       "        vertical-align: middle;\n",
       "    }\n",
       "\n",
       "    .dataframe tbody tr th {\n",
       "        vertical-align: top;\n",
       "    }\n",
       "\n",
       "    .dataframe thead th {\n",
       "        text-align: right;\n",
       "    }\n",
       "</style>\n",
       "<table border=\"1\" class=\"dataframe\">\n",
       "  <thead>\n",
       "    <tr style=\"text-align: right;\">\n",
       "      <th></th>\n",
       "      <th>CHCLASS1</th>\n",
       "      <th>CITYST</th>\n",
       "      <th>COST</th>\n",
       "      <th>FAILDATE</th>\n",
       "      <th>NAME</th>\n",
       "      <th>QBFASSET</th>\n",
       "      <th>QBFDEP</th>\n",
       "    </tr>\n",
       "    <tr>\n",
       "      <th>RESTYPE</th>\n",
       "      <th></th>\n",
       "      <th></th>\n",
       "      <th></th>\n",
       "      <th></th>\n",
       "      <th></th>\n",
       "      <th></th>\n",
       "      <th></th>\n",
       "    </tr>\n",
       "  </thead>\n",
       "  <tbody>\n",
       "    <tr>\n",
       "      <th>ASSISTANCE</th>\n",
       "      <td>13</td>\n",
       "      <td>13</td>\n",
       "      <td>0</td>\n",
       "      <td>13</td>\n",
       "      <td>13</td>\n",
       "      <td>13</td>\n",
       "      <td>13</td>\n",
       "    </tr>\n",
       "    <tr>\n",
       "      <th>FAILURE</th>\n",
       "      <td>1</td>\n",
       "      <td>1</td>\n",
       "      <td>0</td>\n",
       "      <td>1</td>\n",
       "      <td>1</td>\n",
       "      <td>1</td>\n",
       "      <td>1</td>\n",
       "    </tr>\n",
       "  </tbody>\n",
       "</table>\n",
       "</div>"
      ],
      "text/plain": [
       "            CHCLASS1  CITYST  COST  FAILDATE  NAME  QBFASSET  QBFDEP\n",
       "RESTYPE                                                             \n",
       "ASSISTANCE        13      13     0        13    13        13      13\n",
       "FAILURE            1       1     0         1     1         1       1"
      ]
     },
     "execution_count": 8,
     "metadata": {},
     "output_type": "execute_result"
    }
   ],
   "source": [
    "missing_data = costs[costs.isnull().any(axis=1)]\n",
    "missing_data.groupby([missing_data['RESTYPE']]).count()"
   ]
  },
  {
   "cell_type": "markdown",
   "metadata": {},
   "source": [
    "Using relative costs seems warranted in this case - need to compute mean of COST / QBFASSET and apply it to the bank's assets to estimate possible restructuring costs. The overall average is around 23%."
   ]
  },
  {
   "cell_type": "code",
   "execution_count": 9,
   "metadata": {},
   "outputs": [
    {
     "data": {
      "text/plain": [
       "0.23"
      ]
     },
     "execution_count": 9,
     "metadata": {},
     "output_type": "execute_result"
    }
   ],
   "source": [
    "avg_CostsToAssets  = np.round(np.mean(costs['COST']/costs['QBFASSET']), 2)\n",
    "avg_CostsToAssets"
   ]
  },
  {
   "cell_type": "markdown",
   "metadata": {},
   "source": [
    "After the COST value was imputed with the multiplier `avg_CostsToAssets`:"
   ]
  },
  {
   "cell_type": "code",
   "execution_count": 10,
   "metadata": {},
   "outputs": [
    {
     "data": {
      "text/plain": [
       "CHCLASS1                          N\n",
       "CITYST               BOCA RATON, FL\n",
       "COST                        7268.23\n",
       "FAILDATE                 03/01/2002\n",
       "NAME        NET FIRST NATIONAL BANK\n",
       "QBFASSET                      37207\n",
       "QBFDEP                        31601\n",
       "RESTYPE                     FAILURE\n",
       "Name: 26652, dtype: object"
      ]
     },
     "execution_count": 10,
     "metadata": {},
     "output_type": "execute_result"
    }
   ],
   "source": [
    "costs.iloc[561, 2] = costs.iloc[561, 6] * avg_CostsToAssets\n",
    "costs.iloc[561, ]"
   ]
  },
  {
   "cell_type": "markdown",
   "metadata": {},
   "source": [
    "After this imputation all remaining 13 missing values are associated with assistance RESTYPE and thus should have zero COST, i.e. one can impute these missing values with zeros."
   ]
  },
  {
   "cell_type": "code",
   "execution_count": 11,
   "metadata": {},
   "outputs": [
    {
     "data": {
      "text/html": [
       "<div>\n",
       "<style scoped>\n",
       "    .dataframe tbody tr th:only-of-type {\n",
       "        vertical-align: middle;\n",
       "    }\n",
       "\n",
       "    .dataframe tbody tr th {\n",
       "        vertical-align: top;\n",
       "    }\n",
       "\n",
       "    .dataframe thead th {\n",
       "        text-align: right;\n",
       "    }\n",
       "</style>\n",
       "<table border=\"1\" class=\"dataframe\">\n",
       "  <thead>\n",
       "    <tr style=\"text-align: right;\">\n",
       "      <th></th>\n",
       "      <th>CHCLASS1</th>\n",
       "      <th>CITYST</th>\n",
       "      <th>COST</th>\n",
       "      <th>FAILDATE</th>\n",
       "      <th>NAME</th>\n",
       "      <th>QBFASSET</th>\n",
       "      <th>QBFDEP</th>\n",
       "    </tr>\n",
       "    <tr>\n",
       "      <th>RESTYPE</th>\n",
       "      <th></th>\n",
       "      <th></th>\n",
       "      <th></th>\n",
       "      <th></th>\n",
       "      <th></th>\n",
       "      <th></th>\n",
       "      <th></th>\n",
       "    </tr>\n",
       "  </thead>\n",
       "  <tbody>\n",
       "    <tr>\n",
       "      <th>ASSISTANCE</th>\n",
       "      <td>13</td>\n",
       "      <td>13</td>\n",
       "      <td>0</td>\n",
       "      <td>13</td>\n",
       "      <td>13</td>\n",
       "      <td>13</td>\n",
       "      <td>13</td>\n",
       "    </tr>\n",
       "  </tbody>\n",
       "</table>\n",
       "</div>"
      ],
      "text/plain": [
       "            CHCLASS1  CITYST  COST  FAILDATE  NAME  QBFASSET  QBFDEP\n",
       "RESTYPE                                                             \n",
       "ASSISTANCE        13      13     0        13    13        13      13"
      ]
     },
     "execution_count": 11,
     "metadata": {},
     "output_type": "execute_result"
    }
   ],
   "source": [
    "costs[costs.isnull().any(axis=1)].groupby(\"RESTYPE\").count()"
   ]
  },
  {
   "cell_type": "code",
   "execution_count": 12,
   "metadata": {},
   "outputs": [],
   "source": [
    "costs['COST'].replace(np.nan, 0, inplace=True)"
   ]
  },
  {
   "cell_type": "markdown",
   "metadata": {},
   "source": [
    "The resulting DataFrame `costs` does not have any missing values."
   ]
  },
  {
   "cell_type": "code",
   "execution_count": 13,
   "metadata": {},
   "outputs": [
    {
     "data": {
      "text/plain": [
       "0"
      ]
     },
     "execution_count": 13,
     "metadata": {},
     "output_type": "execute_result"
    }
   ],
   "source": [
    "costs.isnull().sum().sum()"
   ]
  },
  {
   "cell_type": "markdown",
   "metadata": {},
   "source": [
    "### 1.2 Converting and splitting FAILDATE\n",
    "Column FAILDATE has information about when the bank has failed, it needs to be converted to `datetime` object and preferably split into for time series analysis."
   ]
  },
  {
   "cell_type": "code",
   "execution_count": 14,
   "metadata": {},
   "outputs": [],
   "source": [
    "costs['DATE'] = pd.to_datetime(costs['FAILDATE'])\n",
    "costs.drop('FAILDATE', axis=1, inplace=True)"
   ]
  },
  {
   "cell_type": "markdown",
   "metadata": {},
   "source": [
    "Split the DATE column so that information about the year and month of failure are stored in separate columns. "
   ]
  },
  {
   "cell_type": "code",
   "execution_count": 15,
   "metadata": {},
   "outputs": [],
   "source": [
    "costs['YEAR_FAILED'] = costs['DATE'].dt.year.astype('Int64')\n",
    "costs['MONTH_FAILED'] = costs['DATE'].dt.month.astype('Int64')\n",
    "costs['QUARTER_FAILED'] = pd.PeriodIndex(costs.DATE, freq='Q')"
   ]
  },
  {
   "cell_type": "markdown",
   "metadata": {},
   "source": [
    "### 1.3 Plotting distribution and cumsum of COSTS"
   ]
  },
  {
   "cell_type": "code",
   "execution_count": 16,
   "metadata": {
    "slideshow": {
     "slide_type": "slide"
    }
   },
   "outputs": [
    {
     "data": {
      "image/png": "[encoded data removed]",
      "text/plain": [
       "<Figure size 1512x504 with 1 Axes>"
      ]
     },
     "metadata": {},
     "output_type": "display_data"
    }
   ],
   "source": [
    "costs.groupby(['YEAR_FAILED'])['COST'].sum().plot(kind='bar',\n",
    "                                               figsize=(21, 7),\n",
    "                                               label='Costs of failed ($ in thousands)')\n",
    "plt.title(\"Distribution of failed banks 'COST' by 'YEAR_FAILED' (2000-2020) picked in 2009\", y=1.01, fontsize=16)\n",
    "plt.ylabel(\"Costs of failed banks\", labelpad=5)\n",
    "plt.xlabel(\"Year\", labelpad=15)\n",
    "plt.legend()\n",
    "plt.show()"
   ]
  },
  {
   "cell_type": "code",
   "execution_count": 17,
   "metadata": {
    "slideshow": {
     "slide_type": "slide"
    }
   },
   "outputs": [
    {
     "data": {
      "image/png": "[encoded data removed]",
      "text/plain": [
       "<Figure size 1512x504 with 1 Axes>"
      ]
     },
     "metadata": {},
     "output_type": "display_data"
    }
   ],
   "source": [
    "costs.groupby(costs['YEAR_FAILED'])['COST'].sum().cumsum(axis=0).round(2).plot(\n",
    "kind='bar', figsize=(21, 7), label=\"Costs of failed banks ($ in thousands)\")\n",
    "plt.title(\"Cumsum of failed banks 'COST' by 'YEAR_FAILED' (2000-2020) adds up to 70B+\", y=1.01, fontsize=16)\n",
    "plt.ylabel(\"Costs of failed banks\", labelpad=5)\n",
    "plt.xlabel(\"Year\", labelpad=15)\n",
    "plt.legend()\n",
    "plt.show()"
   ]
  },
  {
   "cell_type": "markdown",
   "metadata": {},
   "source": [
    "## 2. Data processing - retrieving all regulatory reports\n",
    "All regulated banks submit quarterly reports to Federal Financial Institutions Examination Council (FFIEC). These data is aggregated and made available to general public via SOAP APIs. Executing sequential  `retrieve_filers_since_date` calls allows rebuilding the universe (population) of regulated banks as it existed at a specific filing date.\n",
    "* Link: https://cdr.ffiec.gov/public/PWS/PWSPage.aspx\n",
    "* Link: https://cdr.ffiec.gov/public/HelpFileContainers/PWSInfo.aspx"
   ]
  },
  {
   "cell_type": "markdown",
   "metadata": {},
   "source": [
    "### 2.1 Connecting to the server\n",
    "`FFIEC_Client` is a wrapper class written to extend functionality of a standard `zeep` SOAP APIs client. It was developed and tested in a separate .py file, imported here. All credit goes to Ryan Arredondo (ryan.c.arredondo@gmail.com) as he is the original author to the best of our knowledge.\n",
    "\n",
    "The actual connection to the server can be done manually by entering login credentials or using the hard coded values below in the next section. FFIEC only allows a limited number of daily calls and discourages using someone else's credentials; provided for testing demonstration purposes only. "
   ]
  },
  {
   "cell_type": "code",
   "execution_count": 18,
   "metadata": {},
   "outputs": [
    {
     "ename": "ModuleNotFoundError",
     "evalue": "No module named 'ffipy'",
     "output_type": "error",
     "traceback": [
      "\u001b[1;31m---------------------------------------------------------------------------\u001b[0m",
      "\u001b[1;31mModuleNotFoundError\u001b[0m                       Traceback (most recent call last)",
      "\u001b[1;32m<ipython-input-18-bf8df4144ecf>\u001b[0m in \u001b[0;36m<module>\u001b[1;34m\u001b[0m\n\u001b[1;32m----> 1\u001b[1;33m \u001b[1;32mfrom\u001b[0m \u001b[0mffipy\u001b[0m \u001b[1;32mimport\u001b[0m \u001b[0mFFIEC_Client\u001b[0m\u001b[1;33m\u001b[0m\u001b[1;33m\u001b[0m\u001b[0m\n\u001b[0m\u001b[0;32m      2\u001b[0m \u001b[1;32mfrom\u001b[0m \u001b[0mio\u001b[0m \u001b[1;32mimport\u001b[0m \u001b[0mStringIO\u001b[0m\u001b[1;33m\u001b[0m\u001b[1;33m\u001b[0m\u001b[0m\n\u001b[0;32m      3\u001b[0m \u001b[1;32mfrom\u001b[0m \u001b[0mzeep\u001b[0m\u001b[1;33m.\u001b[0m\u001b[0mwsse\u001b[0m\u001b[1;33m.\u001b[0m\u001b[0musername\u001b[0m \u001b[1;32mimport\u001b[0m \u001b[0mUsernameToken\u001b[0m\u001b[1;33m\u001b[0m\u001b[1;33m\u001b[0m\u001b[0m\n\u001b[0;32m      4\u001b[0m \u001b[1;32mimport\u001b[0m \u001b[0munittest\u001b[0m\u001b[1;33m\u001b[0m\u001b[1;33m\u001b[0m\u001b[0m\n\u001b[0;32m      5\u001b[0m \u001b[1;32mimport\u001b[0m \u001b[0mwarnings\u001b[0m\u001b[1;33m\u001b[0m\u001b[1;33m\u001b[0m\u001b[0m\n",
      "\u001b[1;31mModuleNotFoundError\u001b[0m: No module named 'ffipy'"
     ]
    }
   ],
   "source": [
    "from ffipy import FFIEC_Client\n",
    "from io import StringIO\n",
    "from zeep.wsse.username import UsernameToken\n",
    "import unittest\n",
    "import warnings\n",
    "warnings.filterwarnings(\"ignore\")"
   ]
  },
  {
   "cell_type": "code",
   "execution_count": null,
   "metadata": {
    "scrolled": true
   },
   "outputs": [],
   "source": [
    "client = FFIEC_Client()"
   ]
  },
  {
   "cell_type": "code",
   "execution_count": null,
   "metadata": {
    "scrolled": true
   },
   "outputs": [
    {
     "data": {
      "text/plain": [
       "True"
      ]
     },
     "execution_count": 372,
     "metadata": {},
     "output_type": "execute_result"
    }
   ],
   "source": [
    "client.test_user_access()"
   ]
  },
  {
   "cell_type": "markdown",
   "metadata": {},
   "source": [
    "### 2.2 Testing reporting database client\n",
    "The section below performs several unit tests on the remote server to check if the data did not change since the last retrieval."
   ]
  },
  {
   "cell_type": "code",
   "execution_count": null,
   "metadata": {},
   "outputs": [
    {
     "name": "stderr",
     "output_type": "stream",
     "text": [
      "./Users/dmitrymikhaylov/opt/anaconda3/lib/python3.8/site-packages/zeep/xsd/elements/element.py:153: ResourceWarning:\n",
      "\n",
      "unclosed <ssl.SSLSocket fd=67, family=AddressFamily.AF_INET, type=SocketKind.SOCK_STREAM, proto=0, laddr=('172.20.11.237', 58807)>\n",
      "\n",
      "/Users/dmitrymikhaylov/opt/anaconda3/lib/python3.8/site-packages/zeep/xsd/elements/element.py:153: ResourceWarning:\n",
      "\n",
      "unclosed <ssl.SSLSocket fd=83, family=AddressFamily.AF_INET, type=SocketKind.SOCK_STREAM, proto=0, laddr=('172.20.11.237', 58954)>\n",
      "\n",
      "/Users/dmitrymikhaylov/opt/anaconda3/lib/python3.8/site-packages/zeep/xsd/elements/element.py:153: ResourceWarning:\n",
      "\n",
      "unclosed <ssl.SSLSocket fd=85, family=AddressFamily.AF_INET, type=SocketKind.SOCK_STREAM, proto=0, laddr=('172.20.11.237', 58955)>\n",
      "\n",
      "/Users/dmitrymikhaylov/opt/anaconda3/lib/python3.8/site-packages/zeep/xsd/elements/element.py:153: ResourceWarning:\n",
      "\n",
      "unclosed <ssl.SSLSocket fd=86, family=AddressFamily.AF_INET, type=SocketKind.SOCK_STREAM, proto=0, laddr=('172.20.11.237', 58963)>\n",
      "\n",
      "/Users/dmitrymikhaylov/opt/anaconda3/lib/python3.8/site-packages/zeep/xsd/elements/element.py:153: ResourceWarning:\n",
      "\n",
      "unclosed <ssl.SSLSocket fd=81, family=AddressFamily.AF_INET, type=SocketKind.SOCK_STREAM, proto=0, laddr=('172.20.11.237', 58978), raddr=('192.59.35.198', 443)>\n",
      "\n",
      "...\n",
      "----------------------------------------------------------------------\n",
      "Ran 4 tests in 10.788s\n",
      "\n",
      "OK\n"
     ]
    }
   ],
   "source": [
    "wsdl = \\\n",
    "    'https://cdr.ffiec.gov/Public/PWS/WebServices/RetrievalService.asmx?WSDL'\n",
    "username = 'dmikhaylov2021'\n",
    "password = 'zVu5W3tw4U2KAH8IeR7z'\n",
    "wsse = UsernameToken(username, password)\n",
    "client = FFIEC_Client(wsse=(username, password))\n",
    "\n",
    "class API_client_rest(unittest.TestCase):\n",
    "    \n",
    "# Test if still connected\n",
    "    def test_connected(self):\n",
    "        self.assertTrue(client.test_user_access())\n",
    "\n",
    "# Test end of the period count\n",
    "    def test_end_period_count(self, date='12/31/2019', count=5227):\n",
    "        self.assertEqual(len(client.retrieve_panel_of_reporters(\n",
    "            ds_name='Call', reporting_pd_end=date)), count)\n",
    "\n",
    "# Test start of the period count\n",
    "    def test_start_period_count(self, date='12/31/2001', count=8689):\n",
    "        self.assertEqual(len(client.retrieve_panel_of_reporters(\n",
    "            ds_name='Call', reporting_pd_end=date)), count)\n",
    "    \n",
    "# Test name of the bank\n",
    "    def test_reporting_periods(self, report_type='Call', periods=83):\n",
    "        self.assertEqual(len(client.retrieve_reporting_periods(ds_name=report_type)), periods)\n",
    "\n",
    "if __name__ == \"__main__\":\n",
    "\n",
    "  unittest.main(argv=[''], exit=False)"
   ]
  },
  {
   "cell_type": "markdown",
   "metadata": {},
   "source": [
    "### 2.3 Comparing failed and surviving banks\n",
    "Get the number of regulator reports submitted by the banks and compare the number of surviving banks to the number of failed banks at the end of the same period. \n",
    "\n",
    "First, get the list of years for which there are costs of failures data. After that, make API calls for end of these years to check how many banks submitted the reports. Store the results on `regulated_universe` dictionary. This may take several minutes to run."
   ]
  },
  {
   "cell_type": "code",
   "execution_count": 19,
   "metadata": {},
   "outputs": [
    {
     "data": {
      "text/plain": [
       "{2019: 0,\n",
       " 2017: 0,\n",
       " 2016: 0,\n",
       " 2015: 0,\n",
       " 2014: 0,\n",
       " 2013: 0,\n",
       " 2012: 0,\n",
       " 2011: 0,\n",
       " 2010: 0,\n",
       " 2009: 0,\n",
       " 2008: 0,\n",
       " 2007: 0,\n",
       " 2004: 0,\n",
       " 2003: 0,\n",
       " 2002: 0,\n",
       " 2001: 0,\n",
       " 2000: 0}"
      ]
     },
     "execution_count": 19,
     "metadata": {},
     "output_type": "execute_result"
    }
   ],
   "source": [
    "years = costs['YEAR_FAILED'].unique()\n",
    "regulated_universe = {}\n",
    "for year in years:\n",
    "    reporting_date = '12/31/'+str(year)\n",
    "    try:\n",
    "        regulated_universe[year]=len(client.retrieve_panel_of_reporters(ds_name='Call', \n",
    "                                                                        reporting_pd_end=reporting_date))\n",
    "    except:\n",
    "        regulated_universe[year] = 0\n",
    "regulated_universe"
   ]
  },
  {
   "cell_type": "markdown",
   "metadata": {},
   "source": [
    "Code below stores information about failed and active, i.e. surviving or reporting, banks in a single DataFrame object for the purposes of visualization and analysis. First, `groupby` selection of annual failed banks is converted to a separate table `failed_counts`, sorted, and columns renamed. Second, `active_counts` table is produced from the `regulated_universe` dictionary returned by API client. Finally, both tables are merged on column \"Year\" for further analysis."
   ]
  },
  {
   "cell_type": "code",
   "execution_count": 20,
   "metadata": {},
   "outputs": [],
   "source": [
    "failed_counts = costs.groupby(costs['YEAR_FAILED'])['COST'].count().reset_index().rename(\n",
    "    columns={'YEAR_FAILED':'Year', 'COST':'Failed'})\n",
    "failed_counts.sort_values('Year', ascending=True, inplace=True)\n",
    "\n",
    "active_counts = pd.DataFrame.from_dict(regulated_universe, orient='index', columns=['Active']).reset_index()\n",
    "active_counts.sort_values('index', ascending=True, inplace=True)\n",
    "\n",
    "banks_counts = pd.merge(active_counts, failed_counts, how=\"inner\", on=failed_counts['Year'])"
   ]
  },
  {
   "cell_type": "markdown",
   "metadata": {},
   "source": [
    "Below is a summary plot that shows annual counts of failed banks stacked on top of active banks. Please note that y-axis was adjust for a range starting at 4000 counts to make failed banks appear more pronounced.\n",
    "\n",
    "Still, bank failures is a very rare event that obviously can't explain why the number of regulated banks declined from almost 9,000 down to slightly more than 5,000. Additional analysis is warranted to help understand the drivers of this drastic change."
   ]
  },
  {
   "cell_type": "code",
   "execution_count": 21,
   "metadata": {},
   "outputs": [
    {
     "data": {
      "image/png": "[encoded data removed]",
      "text/plain": [
       "<Figure size 1512x504 with 1 Axes>"
      ]
     },
     "metadata": {},
     "output_type": "display_data"
    }
   ],
   "source": [
    "banks_counts.plot(x='Year', \n",
    "                  y=['Active', 'Failed'], \n",
    "                  kind='bar', \n",
    "                  stacked=True, \n",
    "                  figsize=(21, 7))\n",
    "\n",
    "plt.legend()\n",
    "plt.title(\"Active vs failed banks (counts) at the end of report year (2001-2019)\", y=1.01, fontsize=16)\n",
    "plt.ylabel(\"Counts of banks\", labelpad=5)\n",
    "plt.xlabel(\"Year\", labelpad=15)\n",
    "plt.ylim([5000, 9000])\n",
    "plt.show()"
   ]
  },
  {
   "cell_type": "markdown",
   "metadata": {},
   "source": [
    "## 3. Data analysis - explaining industry consolidation \n",
    "FDIC maintains BankFind Suite portal, which is effectively events and changes database. Although it does not redirect to the corresponding statutory reports, it provides summary information about major corporate events, such as mergers or charter changes.\n",
    "- Link: https://banks.data.fdic.gov/bankfind-suite/oscr"
   ]
  },
  {
   "cell_type": "code",
   "execution_count": 26,
   "metadata": {},
   "outputs": [],
   "source": [
    "import plotly.graph_objects as go\n",
    "import plotly.io as pio\n",
    "pio.templates.default = \"seaborn\""
   ]
  },
  {
   "cell_type": "markdown",
   "metadata": {},
   "source": [
    "### 3.1 HOW MUCH TO EXPLAIN AT THIS POINT REGARDING OUR RECONCILIATION EFFORTS???"
   ]
  },
  {
   "cell_type": "code",
   "execution_count": 27,
   "metadata": {},
   "outputs": [],
   "source": [
    "def FilterDF(df, cols_keep, date_col, class_col, filter_criteria={}, start_year=2000, end_year=2020):\n",
    "    \"\"\"\n",
    "    Function cleans data from the FDIC CSVs on changing Cert IDs.\n",
    "\n",
    "    It only keeps desired columns, will filter based on additional criteria, and will only keep\n",
    "    entries within the desired date range + are Commercial Banks / Savings Institutions\n",
    "    \"\"\"\n",
    "\n",
    "    # Ensure Correct Data Types\n",
    "    if type(cols_keep) != list:\n",
    "        cols_keep = [cols_keep]\n",
    "\n",
    "    # Extract Desired Columns\n",
    "    df_clean = df[cols_keep].copy()\n",
    "    \n",
    "    # Convert Date Column to DateTime\n",
    "    df_clean[date_col] = pd.to_datetime(df_clean[date_col])\n",
    "\n",
    "    # Filter Date Column To Desired Range (2000-2020 defualt)\n",
    "    df_clean = df_clean.loc[(df_clean[date_col].dt.year >= start_year) & \n",
    "                            (df_clean[date_col].dt.year <= end_year)]\n",
    "\n",
    "    # Filter Anything Not Needed\n",
    "    if filter_criteria != {}:\n",
    "        for key in filter_criteria.keys():\n",
    "            df_clean = df_clean.loc[df_clean[key] == filter_criteria[key]]\n",
    "\n",
    "    # Filter Class Type != Savings or Commercial\n",
    "    df_clean = df_clean.loc[(df_clean[class_col] == 'Savings') |\n",
    "                            (df_clean[class_col] == 'Commercial')\n",
    "                            ].reset_index(drop=True)\n",
    "\n",
    "    \n",
    "    return df_clean"
   ]
  },
  {
   "cell_type": "code",
   "execution_count": 28,
   "metadata": {},
   "outputs": [],
   "source": [
    "def CountByYear(df, class_col, date_col, count_col):\n",
    "    \"\"\"\n",
    "    Function takes clean data from the FDIC CSVs on changing Cert IDs and obtains the counts by year.\n",
    "    \"\"\"\n",
    "\n",
    "    # Count Cert IDs by Year\n",
    "    df_by_year = df.groupby([class_col, df[date_col].dt.year]).count()[count_col].reset_index()\n",
    "    df_by_year.columns = ['Class Type', 'Year', 'Count']\n",
    "\n",
    "    # Fill in Missing Years\n",
    "    for year in range(2000, 2021):\n",
    "        temp_com = df_by_year.loc[(df_by_year['Year'] == year) &\n",
    "                                  (df_by_year['Class Type'] == 'Commercial')]\n",
    "        temp_sav = df_by_year.loc[(df_by_year['Year'] == year) &\n",
    "                                  (df_by_year['Class Type'] == 'Savings')]\n",
    "        if len(temp_com) != 1:\n",
    "            df_by_year = df_by_year.append({'Class Type': 'Commercial', 'Year': year, 'Count': 0}, ignore_index=True)\n",
    "        if len(temp_sav) != 1:\n",
    "            df_by_year = df_by_year.append({'Class Type': 'Savings', 'Year': year, 'Count': 0}, ignore_index=True)\n",
    "\n",
    "    # Sort DataFrame\n",
    "    df_by_year = df_by_year.sort_values(by=['Class Type', 'Year']).reset_index(drop=True)\n",
    "\n",
    "    # Reformat DataFrame\n",
    "    df_by_year_reformat = pd.DataFrame(df_by_year.loc[df_by_year['Class Type'] == 'Commercial', 'Year'])\n",
    "    df_by_year_reformat['Commercial'] = list(df_by_year.loc[df_by_year['Class Type'] == 'Commercial', 'Count'])\n",
    "    df_by_year_reformat['Savings'] = list(df_by_year.loc[df_by_year['Class Type'] == 'Savings', 'Count'])\n",
    "\n",
    "    return df_by_year_reformat"
   ]
  },
  {
   "cell_type": "code",
   "execution_count": 29,
   "metadata": {},
   "outputs": [],
   "source": [
    "def GenerateHistogram(df, category, start_year=2000, end_year=2020):\n",
    "    \"\"\"\n",
    "    Function takes the counts by year of Commercial Banks and Savings Institutions for any change type\n",
    "    and produces a histogram view of the desired years.\n",
    "    \"\"\"\n",
    "    \n",
    "    # Generate Figure\n",
    "    fig, axis = plt.subplots(figsize=(24, 10))\n",
    "\n",
    "    # Filter Year to Desired Time Frame\n",
    "    df = df.loc[(df['Year'] >= start_year) & (df['Year'] <= end_year)\n",
    "               ].reset_index(drop=True).copy()\n",
    "\n",
    "    # Plot\n",
    "    df.plot(kind='bar', x='Year', ax=axis)\n",
    "\n",
    "    # Label Plot\n",
    "    axis.set_ylabel(f'Count of {category}', size=16)\n",
    "    axis.set_xlabel('Year', size=16)\n",
    "    axis.set_title(f'{category} by Year', size=22)\n",
    "    axis.tick_params(axis='x', labelsize=13, labelrotation=0)\n",
    "    axis.tick_params(axis='y', labelsize=13)\n",
    "    axis.legend(fontsize=16)\n",
    "\n",
    "    # Write Counts Above Bars\n",
    "    for i, v in enumerate(df['Commercial']):\n",
    "        axis.text(i-0.123, 1.01*v, str(v), color='blue', fontweight='bold', horizontalalignment='center')\n",
    "    for i, v in enumerate(df['Savings']):\n",
    "        axis.text(i+0.123, 1.01*v, str(v), color='orange', fontweight='bold', horizontalalignment='center')\n",
    "\n",
    "    # Show Figure\n",
    "    fig.show()"
   ]
  },
  {
   "cell_type": "code",
   "execution_count": 35,
   "metadata": {},
   "outputs": [
    {
     "data": {
      "text/html": [
       "<div>\n",
       "<style scoped>\n",
       "    .dataframe tbody tr th:only-of-type {\n",
       "        vertical-align: middle;\n",
       "    }\n",
       "\n",
       "    .dataframe tbody tr th {\n",
       "        vertical-align: top;\n",
       "    }\n",
       "\n",
       "    .dataframe thead th {\n",
       "        text-align: right;\n",
       "    }\n",
       "</style>\n",
       "<table border=\"1\" class=\"dataframe\">\n",
       "  <thead>\n",
       "    <tr style=\"text-align: right;\">\n",
       "      <th></th>\n",
       "      <th>ID</th>\n",
       "      <th>SAVINGS</th>\n",
       "      <th>STNAME</th>\n",
       "      <th>YEAR</th>\n",
       "      <th>alsonew</th>\n",
       "      <th>chartoth</th>\n",
       "      <th>chrtrest</th>\n",
       "      <th>comboass</th>\n",
       "      <th>combos</th>\n",
       "      <th>newcount</th>\n",
       "      <th>tofail</th>\n",
       "      <th>tomerg</th>\n",
       "      <th>tortc</th>\n",
       "    </tr>\n",
       "  </thead>\n",
       "  <tbody>\n",
       "    <tr>\n",
       "      <th>0</th>\n",
       "      <td>SI_1999_USA</td>\n",
       "      <td>1639</td>\n",
       "      <td>United States &amp; Other Areas</td>\n",
       "      <td>1999</td>\n",
       "      <td>0</td>\n",
       "      <td>6</td>\n",
       "      <td>24</td>\n",
       "      <td>1</td>\n",
       "      <td>34</td>\n",
       "      <td>36</td>\n",
       "      <td>0</td>\n",
       "      <td>22</td>\n",
       "      <td>0</td>\n",
       "    </tr>\n",
       "    <tr>\n",
       "      <th>1</th>\n",
       "      <td>SI_2000_USA</td>\n",
       "      <td>1587</td>\n",
       "      <td>United States &amp; Other Areas</td>\n",
       "      <td>2000</td>\n",
       "      <td>0</td>\n",
       "      <td>4</td>\n",
       "      <td>45</td>\n",
       "      <td>0</td>\n",
       "      <td>28</td>\n",
       "      <td>30</td>\n",
       "      <td>0</td>\n",
       "      <td>8</td>\n",
       "      <td>0</td>\n",
       "    </tr>\n",
       "    <tr>\n",
       "      <th>2</th>\n",
       "      <td>SI_2001_USA</td>\n",
       "      <td>1530</td>\n",
       "      <td>United States &amp; Other Areas</td>\n",
       "      <td>2001</td>\n",
       "      <td>0</td>\n",
       "      <td>3</td>\n",
       "      <td>57</td>\n",
       "      <td>1</td>\n",
       "      <td>32</td>\n",
       "      <td>16</td>\n",
       "      <td>0</td>\n",
       "      <td>11</td>\n",
       "      <td>0</td>\n",
       "    </tr>\n",
       "    <tr>\n",
       "      <th>3</th>\n",
       "      <td>SI_2002_USA</td>\n",
       "      <td>1469</td>\n",
       "      <td>United States &amp; Other Areas</td>\n",
       "      <td>2002</td>\n",
       "      <td>0</td>\n",
       "      <td>2</td>\n",
       "      <td>10</td>\n",
       "      <td>0</td>\n",
       "      <td>28</td>\n",
       "      <td>1</td>\n",
       "      <td>0</td>\n",
       "      <td>8</td>\n",
       "      <td>0</td>\n",
       "    </tr>\n",
       "    <tr>\n",
       "      <th>4</th>\n",
       "      <td>SI_2003_USA</td>\n",
       "      <td>1411</td>\n",
       "      <td>United States &amp; Other Areas</td>\n",
       "      <td>2003</td>\n",
       "      <td>0</td>\n",
       "      <td>2</td>\n",
       "      <td>14</td>\n",
       "      <td>0</td>\n",
       "      <td>24</td>\n",
       "      <td>5</td>\n",
       "      <td>0</td>\n",
       "      <td>13</td>\n",
       "      <td>0</td>\n",
       "    </tr>\n",
       "  </tbody>\n",
       "</table>\n",
       "</div>"
      ],
      "text/plain": [
       "            ID  SAVINGS                       STNAME  YEAR  alsonew  chartoth  \\\n",
       "0  SI_1999_USA     1639  United States & Other Areas  1999        0         6   \n",
       "1  SI_2000_USA     1587  United States & Other Areas  2000        0         4   \n",
       "2  SI_2001_USA     1530  United States & Other Areas  2001        0         3   \n",
       "3  SI_2002_USA     1469  United States & Other Areas  2002        0         2   \n",
       "4  SI_2003_USA     1411  United States & Other Areas  2003        0         2   \n",
       "\n",
       "   chrtrest  comboass  combos  newcount  tofail  tomerg  tortc  \n",
       "0        24         1      34        36       0      22      0  \n",
       "1        45         0      28        30       0       8      0  \n",
       "2        57         1      32        16       0      11      0  \n",
       "3        10         0      28         1       0       8      0  \n",
       "4        14         0      24         5       0      13      0  "
      ]
     },
     "execution_count": 35,
     "metadata": {},
     "output_type": "execute_result"
    }
   ],
   "source": [
    "# Load Individual Cert Change Datasets\n",
    "new_institutions = pd.read_csv(\"../../data/New_Institutions_10_21_2021.csv\")\n",
    "liquidations = pd.read_csv('../../data/Liquidations_10_21_2021.csv')\n",
    "combinations = pd.read_csv('../../data/Business_Combinations_10_21_2021.csv')\n",
    "failures = pd.read_csv('../../data/Business_Combinations_-_Failures_10_21_2021.csv')\n",
    "\n",
    "# Load Summary Tables\n",
    "commercial_banks_sum = pd.read_csv('../../data/cb_structure.csv')\n",
    "savings_institutions_sum = pd.read_csv('../../data/si_structure.csv')\n",
    "\n",
    "savings_institutions_sum.head()"
   ]
  },
  {
   "cell_type": "code",
   "execution_count": 31,
   "metadata": {},
   "outputs": [
    {
     "data": {
      "text/html": [
       "<div>\n",
       "<style scoped>\n",
       "    .dataframe tbody tr th:only-of-type {\n",
       "        vertical-align: middle;\n",
       "    }\n",
       "\n",
       "    .dataframe tbody tr th {\n",
       "        vertical-align: top;\n",
       "    }\n",
       "\n",
       "    .dataframe thead th {\n",
       "        text-align: right;\n",
       "    }\n",
       "</style>\n",
       "<table border=\"1\" class=\"dataframe\">\n",
       "  <thead>\n",
       "    <tr style=\"text-align: right;\">\n",
       "      <th></th>\n",
       "      <th>CERT</th>\n",
       "      <th>FRM_CLASS_TYPE_DESC</th>\n",
       "      <th>EFFDATE</th>\n",
       "    </tr>\n",
       "  </thead>\n",
       "  <tbody>\n",
       "    <tr>\n",
       "      <th>0</th>\n",
       "      <td>34619</td>\n",
       "      <td>Commercial</td>\n",
       "      <td>2000-01-01</td>\n",
       "    </tr>\n",
       "    <tr>\n",
       "      <th>1</th>\n",
       "      <td>35417</td>\n",
       "      <td>Commercial</td>\n",
       "      <td>2000-01-01</td>\n",
       "    </tr>\n",
       "    <tr>\n",
       "      <th>2</th>\n",
       "      <td>35347</td>\n",
       "      <td>Commercial</td>\n",
       "      <td>2000-01-03</td>\n",
       "    </tr>\n",
       "    <tr>\n",
       "      <th>3</th>\n",
       "      <td>35355</td>\n",
       "      <td>Commercial</td>\n",
       "      <td>2000-01-10</td>\n",
       "    </tr>\n",
       "    <tr>\n",
       "      <th>4</th>\n",
       "      <td>35033</td>\n",
       "      <td>Commercial</td>\n",
       "      <td>2000-01-10</td>\n",
       "    </tr>\n",
       "    <tr>\n",
       "      <th>5</th>\n",
       "      <td>35295</td>\n",
       "      <td>Commercial</td>\n",
       "      <td>2000-01-10</td>\n",
       "    </tr>\n",
       "    <tr>\n",
       "      <th>6</th>\n",
       "      <td>35394</td>\n",
       "      <td>Savings</td>\n",
       "      <td>2000-01-12</td>\n",
       "    </tr>\n",
       "    <tr>\n",
       "      <th>7</th>\n",
       "      <td>35296</td>\n",
       "      <td>Commercial</td>\n",
       "      <td>2000-01-14</td>\n",
       "    </tr>\n",
       "    <tr>\n",
       "      <th>8</th>\n",
       "      <td>34951</td>\n",
       "      <td>Commercial</td>\n",
       "      <td>2000-01-18</td>\n",
       "    </tr>\n",
       "    <tr>\n",
       "      <th>9</th>\n",
       "      <td>35324</td>\n",
       "      <td>Commercial</td>\n",
       "      <td>2000-01-18</td>\n",
       "    </tr>\n",
       "  </tbody>\n",
       "</table>\n",
       "</div>"
      ],
      "text/plain": [
       "    CERT FRM_CLASS_TYPE_DESC    EFFDATE\n",
       "0  34619          Commercial 2000-01-01\n",
       "1  35417          Commercial 2000-01-01\n",
       "2  35347          Commercial 2000-01-03\n",
       "3  35355          Commercial 2000-01-10\n",
       "4  35033          Commercial 2000-01-10\n",
       "5  35295          Commercial 2000-01-10\n",
       "6  35394             Savings 2000-01-12\n",
       "7  35296          Commercial 2000-01-14\n",
       "8  34951          Commercial 2000-01-18\n",
       "9  35324          Commercial 2000-01-18"
      ]
     },
     "execution_count": 31,
     "metadata": {},
     "output_type": "execute_result"
    }
   ],
   "source": [
    "ni = FilterDF(new_institutions, ['CERT', 'FRM_CLASS_TYPE_DESC', 'EFFDATE'], 'EFFDATE', 'FRM_CLASS_TYPE_DESC')\n",
    "li = FilterDF(liquidations, ['CERT', 'FRM_CLASS_TYPE_DESC', 'EFFDATE', 'CHANGECODE_DESC'], 'EFFDATE', \n",
    "         'FRM_CLASS_TYPE_DESC', filter_criteria={'CHANGECODE_DESC': 'FINANCIAL DIFFICULTY - PAYOFF'})\n",
    "co = FilterDF(combinations, ['CERT', 'ACQ_CLASS_TYPE_DESC', 'EFFDATE'], 'EFFDATE', 'ACQ_CLASS_TYPE_DESC')\n",
    "fa = FilterDF(failures, ['CERT', 'ACQ_CLASS_TYPE_DESC', 'EFFDATE'], 'EFFDATE', 'ACQ_CLASS_TYPE_DESC')\n",
    "\n",
    "ni.head(10)"
   ]
  },
  {
   "cell_type": "code",
   "execution_count": 32,
   "metadata": {},
   "outputs": [
    {
     "data": {
      "text/html": [
       "<div>\n",
       "<style scoped>\n",
       "    .dataframe tbody tr th:only-of-type {\n",
       "        vertical-align: middle;\n",
       "    }\n",
       "\n",
       "    .dataframe tbody tr th {\n",
       "        vertical-align: top;\n",
       "    }\n",
       "\n",
       "    .dataframe thead th {\n",
       "        text-align: right;\n",
       "    }\n",
       "</style>\n",
       "<table border=\"1\" class=\"dataframe\">\n",
       "  <thead>\n",
       "    <tr style=\"text-align: right;\">\n",
       "      <th></th>\n",
       "      <th>Year</th>\n",
       "      <th>Commercial</th>\n",
       "      <th>Savings</th>\n",
       "    </tr>\n",
       "  </thead>\n",
       "  <tbody>\n",
       "    <tr>\n",
       "      <th>0</th>\n",
       "      <td>2000</td>\n",
       "      <td>190</td>\n",
       "      <td>33</td>\n",
       "    </tr>\n",
       "    <tr>\n",
       "      <th>1</th>\n",
       "      <td>2001</td>\n",
       "      <td>127</td>\n",
       "      <td>18</td>\n",
       "    </tr>\n",
       "    <tr>\n",
       "      <th>2</th>\n",
       "      <td>2002</td>\n",
       "      <td>91</td>\n",
       "      <td>3</td>\n",
       "    </tr>\n",
       "    <tr>\n",
       "      <th>3</th>\n",
       "      <td>2003</td>\n",
       "      <td>110</td>\n",
       "      <td>7</td>\n",
       "    </tr>\n",
       "    <tr>\n",
       "      <th>4</th>\n",
       "      <td>2004</td>\n",
       "      <td>122</td>\n",
       "      <td>6</td>\n",
       "    </tr>\n",
       "    <tr>\n",
       "      <th>5</th>\n",
       "      <td>2005</td>\n",
       "      <td>167</td>\n",
       "      <td>14</td>\n",
       "    </tr>\n",
       "    <tr>\n",
       "      <th>6</th>\n",
       "      <td>2006</td>\n",
       "      <td>179</td>\n",
       "      <td>16</td>\n",
       "    </tr>\n",
       "    <tr>\n",
       "      <th>7</th>\n",
       "      <td>2007</td>\n",
       "      <td>176</td>\n",
       "      <td>17</td>\n",
       "    </tr>\n",
       "    <tr>\n",
       "      <th>8</th>\n",
       "      <td>2008</td>\n",
       "      <td>91</td>\n",
       "      <td>8</td>\n",
       "    </tr>\n",
       "    <tr>\n",
       "      <th>9</th>\n",
       "      <td>2009</td>\n",
       "      <td>29</td>\n",
       "      <td>8</td>\n",
       "    </tr>\n",
       "  </tbody>\n",
       "</table>\n",
       "</div>"
      ],
      "text/plain": [
       "   Year  Commercial  Savings\n",
       "0  2000         190       33\n",
       "1  2001         127       18\n",
       "2  2002          91        3\n",
       "3  2003         110        7\n",
       "4  2004         122        6\n",
       "5  2005         167       14\n",
       "6  2006         179       16\n",
       "7  2007         176       17\n",
       "8  2008          91        8\n",
       "9  2009          29        8"
      ]
     },
     "execution_count": 32,
     "metadata": {},
     "output_type": "execute_result"
    }
   ],
   "source": [
    "ni_cnts = CountByYear(ni, 'FRM_CLASS_TYPE_DESC', 'EFFDATE', 'CERT')\n",
    "li_cnts = CountByYear(li, 'FRM_CLASS_TYPE_DESC', 'EFFDATE', 'CERT')\n",
    "co_cnts = CountByYear(co, 'ACQ_CLASS_TYPE_DESC', 'EFFDATE', 'CERT')\n",
    "fa_cnts = CountByYear(fa, 'ACQ_CLASS_TYPE_DESC', 'EFFDATE', 'CERT')\n",
    "\n",
    "ni_cnts.head(10)"
   ]
  },
  {
   "cell_type": "code",
   "execution_count": 33,
   "metadata": {},
   "outputs": [
    {
     "data": {
      "image/png": "[encoded data removed]",
      "text/plain": [
       "<Figure size 1728x720 with 1 Axes>"
      ]
     },
     "metadata": {},
     "output_type": "display_data"
    },
    {
     "data": {
      "image/png": "[encoded data removed]",
      "text/plain": [
       "<Figure size 1728x720 with 1 Axes>"
      ]
     },
     "metadata": {},
     "output_type": "display_data"
    },
    {
     "data": {
      "image/png": "[encoded data removed]",
      "text/plain": [
       "<Figure size 1728x720 with 1 Axes>"
      ]
     },
     "metadata": {},
     "output_type": "display_data"
    },
    {
     "data": {
      "image/png": "[encoded data removed]",
      "text/plain": [
       "<Figure size 1728x720 with 1 Axes>"
      ]
     },
     "metadata": {},
     "output_type": "display_data"
    }
   ],
   "source": [
    "GenerateHistogram(ni_cnts, 'New Institutions')\n",
    "GenerateHistogram(li_cnts, 'Liquidations')\n",
    "GenerateHistogram(co_cnts, 'Combinations')\n",
    "GenerateHistogram(fa_cnts, 'Combinations - Failure')"
   ]
  },
  {
   "cell_type": "markdown",
   "metadata": {},
   "source": [
    "### 3.2 Summary waterfall chart\n",
    "This chart is a querying tool as well. It not only gives a high level view of the industry consolidation throughout the years but also allows to do visual analysis of the data by zooming into desired flows and periods. use 'Reset axes' to go back to the original view."
   ]
  },
  {
   "cell_type": "code",
   "execution_count": 37,
   "metadata": {},
   "outputs": [
    {
     "data": {
      "text/html": [
       "<div>\n",
       "<style scoped>\n",
       "    .dataframe tbody tr th:only-of-type {\n",
       "        vertical-align: middle;\n",
       "    }\n",
       "\n",
       "    .dataframe tbody tr th {\n",
       "        vertical-align: top;\n",
       "    }\n",
       "\n",
       "    .dataframe thead th {\n",
       "        text-align: right;\n",
       "    }\n",
       "</style>\n",
       "<table border=\"1\" class=\"dataframe\">\n",
       "  <thead>\n",
       "    <tr style=\"text-align: right;\">\n",
       "      <th></th>\n",
       "      <th>Category</th>\n",
       "      <th>Value</th>\n",
       "      <th>Measure Type</th>\n",
       "      <th>Text</th>\n",
       "    </tr>\n",
       "  </thead>\n",
       "  <tbody>\n",
       "    <tr>\n",
       "      <th>0</th>\n",
       "      <td>2000 Total</td>\n",
       "      <td>9787</td>\n",
       "      <td>absolute</td>\n",
       "      <td>Year Start</td>\n",
       "    </tr>\n",
       "    <tr>\n",
       "      <th>1</th>\n",
       "      <td>2000 New Institutions</td>\n",
       "      <td>223</td>\n",
       "      <td>relative</td>\n",
       "      <td>New Institutions</td>\n",
       "    </tr>\n",
       "    <tr>\n",
       "      <th>2</th>\n",
       "      <td>2000 Combinations</td>\n",
       "      <td>-553</td>\n",
       "      <td>relative</td>\n",
       "      <td>Combinations</td>\n",
       "    </tr>\n",
       "    <tr>\n",
       "      <th>3</th>\n",
       "      <td>2000 Failures</td>\n",
       "      <td>-7</td>\n",
       "      <td>relative</td>\n",
       "      <td>Combinations of Failed Bank</td>\n",
       "    </tr>\n",
       "    <tr>\n",
       "      <th>4</th>\n",
       "      <td>2000 Liquidations</td>\n",
       "      <td>0</td>\n",
       "      <td>relative</td>\n",
       "      <td>Liquidations</td>\n",
       "    </tr>\n",
       "    <tr>\n",
       "      <th>...</th>\n",
       "      <td>...</td>\n",
       "      <td>...</td>\n",
       "      <td>...</td>\n",
       "      <td>...</td>\n",
       "    </tr>\n",
       "    <tr>\n",
       "      <th>116</th>\n",
       "      <td>2019 Combinations</td>\n",
       "      <td>-228</td>\n",
       "      <td>relative</td>\n",
       "      <td>Combinations</td>\n",
       "    </tr>\n",
       "    <tr>\n",
       "      <th>117</th>\n",
       "      <td>2019 Failures</td>\n",
       "      <td>-4</td>\n",
       "      <td>relative</td>\n",
       "      <td>Combinations of Failed Bank</td>\n",
       "    </tr>\n",
       "    <tr>\n",
       "      <th>118</th>\n",
       "      <td>2019 Liquidations</td>\n",
       "      <td>0</td>\n",
       "      <td>relative</td>\n",
       "      <td>Liquidations</td>\n",
       "    </tr>\n",
       "    <tr>\n",
       "      <th>119</th>\n",
       "      <td>2019 Adjustments</td>\n",
       "      <td>41</td>\n",
       "      <td>relative</td>\n",
       "      <td>All Other Adjustments</td>\n",
       "    </tr>\n",
       "    <tr>\n",
       "      <th>120</th>\n",
       "      <td>2020 Total</td>\n",
       "      <td>0</td>\n",
       "      <td>total</td>\n",
       "      <td>Year Start</td>\n",
       "    </tr>\n",
       "  </tbody>\n",
       "</table>\n",
       "<p>121 rows × 4 columns</p>\n",
       "</div>"
      ],
      "text/plain": [
       "                  Category  Value Measure Type                         Text\n",
       "0               2000 Total   9787     absolute                   Year Start\n",
       "1    2000 New Institutions    223     relative             New Institutions\n",
       "2        2000 Combinations   -553     relative                 Combinations\n",
       "3            2000 Failures     -7     relative  Combinations of Failed Bank\n",
       "4        2000 Liquidations      0     relative                 Liquidations\n",
       "..                     ...    ...          ...                          ...\n",
       "116      2019 Combinations   -228     relative                 Combinations\n",
       "117          2019 Failures     -4     relative  Combinations of Failed Bank\n",
       "118      2019 Liquidations      0     relative                 Liquidations\n",
       "119       2019 Adjustments     41     relative        All Other Adjustments\n",
       "120             2020 Total      0        total                   Year Start\n",
       "\n",
       "[121 rows x 4 columns]"
      ]
     },
     "execution_count": 37,
     "metadata": {},
     "output_type": "execute_result"
    }
   ],
   "source": [
    "def CombineChangesByYear(summary_com, summary_sav, new_institutions, conversions, conversions_failed, liquidations, combine=False):\n",
    "\n",
    "    # Combine Commercial Banks + Savings Institutions\n",
    "    if combine:\n",
    "\n",
    "        # Initialize with the starting value\n",
    "        total_end = int(summary_com[summary_com['YEAR'] == 2000]['TOTAL']) + \\\n",
    "                        int(summary_sav[summary_sav['YEAR'] == 2000]['SAVINGS'])\n",
    "        data = [[f'2000 Total', total_end, 'absolute', 'Year Start']]\n",
    "\n",
    "        for year in range(2000, 2020):\n",
    "\n",
    "            # Generate the total counts for each year\n",
    "            total_ni = int(new_institutions[new_institutions['Year'] == year]['Commercial']) + \\\n",
    "                         int(new_institutions[new_institutions['Year'] == year]['Savings'])\n",
    "            total_co = int(conversions[conversions['Year'] == year]['Commercial']) + \\\n",
    "                         int(conversions[conversions['Year'] == year]['Savings'])\n",
    "            total_fa = int(conversions_failed[conversions_failed['Year'] == year]['Commercial']) + \\\n",
    "                         int(conversions_failed[conversions_failed['Year'] == year]['Savings'])\n",
    "            total_li = int(liquidations[liquidations['Year'] == year]['Commercial']) + \\\n",
    "                         int(liquidations[liquidations['Year'] == year]['Savings'])\n",
    "\n",
    "            # Make Adjustments\n",
    "            total_start = total_end\n",
    "            total_end = int(summary_com[summary_com['YEAR'] == year+1]['TOTAL']) + \\\n",
    "                             int(summary_sav[summary_sav['YEAR'] == year+1]['SAVINGS'])\n",
    "            total_adj = total_start - total_end + total_ni - total_co - total_fa - total_li\n",
    "\n",
    "            # Put counts into individual rows\n",
    "            data_year = [\n",
    "                [f'{year} New Institutions', total_ni, 'relative', 'New Institutions'],\n",
    "                [f'{year} Combinations', -total_co, 'relative', 'Combinations'], \n",
    "                [f'{year} Failures', -total_fa, 'relative', 'Combinations of Failed Bank'], \n",
    "                [f'{year} Liquidations', -total_li, 'relative', 'Liquidations'], \n",
    "                [f'{year} Adjustments', -total_adj, 'relative', 'All Other Adjustments'],\n",
    "                [f'{year+1} Total', 0, 'total', 'Year Start']\n",
    "                        ]\n",
    "\n",
    "            # Add year to aggregate data\n",
    "            data.extend(data_year)\n",
    "\n",
    "        # Create DataFrame with event counts by year\n",
    "        df = pd.DataFrame(columns = ['Category', 'Value', 'Measure Type', 'Text'], data = data)\n",
    "            \n",
    "        return df\n",
    "\n",
    "    # Calculate Commercial Banks + Savings Institutions Seperately\n",
    "    else:\n",
    "\n",
    "        # Initialize with the starting values\n",
    "        total_end_com = int(summary_com[summary_com['YEAR'] == 2000]['TOTAL'])\n",
    "        total_end_sav = int(summary_sav[summary_sav['YEAR'] == 2000]['SAVINGS'])\n",
    "        data_com = [[f'2000 Total', total_end_com, 'absolute', 'Year Start']]\n",
    "        data_sav = [[f'2000 Total', total_end_sav, 'absolute', 'Year Start']]\n",
    "        \n",
    "        for year in range(2000, 2020):\n",
    "\n",
    "            # Generate the total counts for each year\n",
    "            total_ni_com = int(new_institutions[new_institutions['Year'] == year]['Commercial'])\n",
    "            total_ni_sav = int(new_institutions[new_institutions['Year'] == year]['Savings'])\n",
    "            total_co_com = int(conversions[conversions['Year'] == year]['Commercial'])\n",
    "            total_co_sav = int(conversions[conversions['Year'] == year]['Savings'])\n",
    "            total_fa_com = int(conversions_failed[conversions_failed['Year'] == year]['Commercial'])\n",
    "            total_fa_sav = int(conversions_failed[conversions_failed['Year'] == year]['Savings'])\n",
    "            total_li_com = int(liquidations[liquidations['Year'] == year]['Commercial'])\n",
    "            total_li_sav = int(liquidations[liquidations['Year'] == year]['Savings'])\n",
    "\n",
    "            # Make Adjustments\n",
    "            total_start_com = total_end_com\n",
    "            total_start_sav = total_end_sav\n",
    "            total_end_com = int(summary_com[summary_com['YEAR'] == year+1]['TOTAL'])\n",
    "            total_end_sav = int(summary_sav[summary_sav['YEAR'] == year+1]['SAVINGS'])\n",
    "            total_adj_com = total_start_com - total_end_com + total_ni_com - total_co_com - total_fa_com - total_li_com\n",
    "            total_adj_sav = total_start_sav - total_end_sav + total_ni_sav - total_co_sav - total_fa_sav - total_li_sav\n",
    "\n",
    "            # Put counts into individual rows\n",
    "            data_year_com = [\n",
    "                [f'{year} New Institutions', total_ni_com, 'relative', 'New Institutions'],\n",
    "                [f'{year} Combinations', -total_co_com, 'relative', 'Combinations'], \n",
    "                [f'{year} Failures', -total_fa_com, 'relative', 'Combinations of Failed Bank'], \n",
    "                [f'{year} Liquidations', -total_li_com, 'relative', 'Liquidations'], \n",
    "                [f'{year} Adjustments', -total_adj_com, 'relative', 'All Other Adjustments'],\n",
    "                [f'{year+1} Total', 0, 'total', 'Year Start']\n",
    "                        ]\n",
    "            data_year_sav = [\n",
    "                [f'{year} New Institutions', total_ni_sav, 'relative', 'New Institutions'],\n",
    "                [f'{year} Combinations', -total_co_sav, 'relative', 'Combinations'], \n",
    "                [f'{year} Failures', -total_fa_sav, 'relative', 'Combinations of Failed Bank'], \n",
    "                [f'{year} Liquidations', -total_li_sav, 'relative', 'Liquidations'], \n",
    "                [f'{year} Adjustments', -total_adj_sav, 'relative', 'All Other Adjustments'],\n",
    "                [f'{year+1} Total', 0, 'total', 'Year Start']\n",
    "                        ]\n",
    "\n",
    "            # Add year to aggregate data\n",
    "            data_com.extend(data_year_com)\n",
    "            data_sav.extend(data_year_sav)\n",
    "\n",
    "        # Create DataFrame with event counts by year\n",
    "        df_com = pd.DataFrame(columns = ['Category', 'Value', 'Measure Type', 'Text'], data = data_com)\n",
    "        df_sav = pd.DataFrame(columns = ['Category', 'Value', 'Measure Type', 'Text'], data = data_sav)\n",
    "\n",
    "        return df_com, df_sav\n"
   ]
  },
  {
   "cell_type": "code",
   "execution_count": null,
   "metadata": {},
   "outputs": [],
   "source": [
    "# Get data inputs for Waterfall Chart\n",
    "waterfall_df_all = CombineChangesByYear(commercial_banks_sum, savings_institutions_sum, ni_cnts, co_cnts, fa_cnts, li_cnts, True)\n",
    "waterfall_df_com, waterfall_df_sav =  CombineChangesByYear(commercial_banks_sum, savings_institutions_sum, ni_cnts, co_cnts, fa_cnts, li_cnts, False)\n",
    "\n",
    "waterfall_df_all.head(10)"
   ]
  },
  {
   "cell_type": "code",
   "execution_count": 38,
   "metadata": {},
   "outputs": [
    {
     "data": {
      "application/vnd.plotly.v1+json": {
       "config": {
        "plotlyServerURL": "https://plot.ly"
       },
       "data": [
        {
         "measure": [
          "absolute",
          "relative",
          "relative",
          "relative",
          "relative",
          "relative",
          "total",
          "relative",
          "relative",
          "relative",
          "relative",
          "relative",
          "total",
          "relative",
          "relative",
          "relative",
          "relative",
          "relative",
          "total",
          "relative",
          "relative",
          "relative",
          "relative",
          "relative",
          "total",
          "relative",
          "relative",
          "relative",
          "relative",
          "relative",
          "total",
          "relative",
          "relative",
          "relative",
          "relative",
          "relative",
          "total",
          "relative",
          "relative",
          "relative",
          "relative",
          "relative",
          "total",
          "relative",
          "relative",
          "relative",
          "relative",
          "relative",
          "total",
          "relative",
          "relative",
          "relative",
          "relative",
          "relative",
          "total",
          "relative",
          "relative",
          "relative",
          "relative",
          "relative",
          "total",
          "relative",
          "relative",
          "relative",
          "relative",
          "relative",
          "total",
          "relative",
          "relative",
          "relative",
          "relative",
          "relative",
          "total",
          "relative",
          "relative",
          "relative",
          "relative",
          "relative",
          "total",
          "relative",
          "relative",
          "relative",
          "relative",
          "relative",
          "total",
          "relative",
          "relative",
          "relative",
          "relative",
          "relative",
          "total",
          "relative",
          "relative",
          "relative",
          "relative",
          "relative",
          "total",
          "relative",
          "relative",
          "relative",
          "relative",
          "relative",
          "total",
          "relative",
          "relative",
          "relative",
          "relative",
          "relative",
          "total",
          "relative",
          "relative",
          "relative",
          "relative",
          "relative",
          "total",
          "relative",
          "relative",
          "relative",
          "relative",
          "relative",
          "total"
         ],
         "type": "waterfall",
         "x": [
          "2000 Total",
          "2000 New Institutions",
          "2000 Combinations",
          "2000 Failures",
          "2000 Liquidations",
          "2000 Adjustments",
          "2001 Total",
          "2001 New Institutions",
          "2001 Combinations",
          "2001 Failures",
          "2001 Liquidations",
          "2001 Adjustments",
          "2002 Total",
          "2002 New Institutions",
          "2002 Combinations",
          "2002 Failures",
          "2002 Liquidations",
          "2002 Adjustments",
          "2003 Total",
          "2003 New Institutions",
          "2003 Combinations",
          "2003 Failures",
          "2003 Liquidations",
          "2003 Adjustments",
          "2004 Total",
          "2004 New Institutions",
          "2004 Combinations",
          "2004 Failures",
          "2004 Liquidations",
          "2004 Adjustments",
          "2005 Total",
          "2005 New Institutions",
          "2005 Combinations",
          "2005 Failures",
          "2005 Liquidations",
          "2005 Adjustments",
          "2006 Total",
          "2006 New Institutions",
          "2006 Combinations",
          "2006 Failures",
          "2006 Liquidations",
          "2006 Adjustments",
          "2007 Total",
          "2007 New Institutions",
          "2007 Combinations",
          "2007 Failures",
          "2007 Liquidations",
          "2007 Adjustments",
          "2008 Total",
          "2008 New Institutions",
          "2008 Combinations",
          "2008 Failures",
          "2008 Liquidations",
          "2008 Adjustments",
          "2009 Total",
          "2009 New Institutions",
          "2009 Combinations",
          "2009 Failures",
          "2009 Liquidations",
          "2009 Adjustments",
          "2010 Total",
          "2010 New Institutions",
          "2010 Combinations",
          "2010 Failures",
          "2010 Liquidations",
          "2010 Adjustments",
          "2011 Total",
          "2011 New Institutions",
          "2011 Combinations",
          "2011 Failures",
          "2011 Liquidations",
          "2011 Adjustments",
          "2012 Total",
          "2012 New Institutions",
          "2012 Combinations",
          "2012 Failures",
          "2012 Liquidations",
          "2012 Adjustments",
          "2013 Total",
          "2013 New Institutions",
          "2013 Combinations",
          "2013 Failures",
          "2013 Liquidations",
          "2013 Adjustments",
          "2014 Total",
          "2014 New Institutions",
          "2014 Combinations",
          "2014 Failures",
          "2014 Liquidations",
          "2014 Adjustments",
          "2015 Total",
          "2015 New Institutions",
          "2015 Combinations",
          "2015 Failures",
          "2015 Liquidations",
          "2015 Adjustments",
          "2016 Total",
          "2016 New Institutions",
          "2016 Combinations",
          "2016 Failures",
          "2016 Liquidations",
          "2016 Adjustments",
          "2017 Total",
          "2017 New Institutions",
          "2017 Combinations",
          "2017 Failures",
          "2017 Liquidations",
          "2017 Adjustments",
          "2018 Total",
          "2018 New Institutions",
          "2018 Combinations",
          "2018 Failures",
          "2018 Liquidations",
          "2018 Adjustments",
          "2019 Total",
          "2019 New Institutions",
          "2019 Combinations",
          "2019 Failures",
          "2019 Liquidations",
          "2019 Adjustments",
          "2020 Total"
         ],
         "y": [
          8200,
          190,
          -509,
          -7,
          0,
          124,
          0,
          127,
          -390,
          -3,
          0,
          71,
          0,
          91,
          -316,
          -7,
          -4,
          131,
          0,
          110,
          -243,
          -2,
          0,
          7,
          0,
          122,
          -286,
          -3,
          0,
          64,
          0,
          167,
          -287,
          0,
          0,
          55,
          0,
          179,
          -319,
          0,
          0,
          26,
          0,
          176,
          -293,
          -2,
          0,
          -83,
          0,
          91,
          -279,
          -20,
          0,
          -50,
          0,
          29,
          -170,
          -122,
          -6,
          -27,
          0,
          10,
          -183,
          -131,
          -3,
          54,
          0,
          5,
          -186,
          -85,
          0,
          74,
          0,
          1,
          -182,
          -48,
          -1,
          -6,
          0,
          1,
          -213,
          -17,
          -1,
          -12,
          0,
          0,
          -251,
          -16,
          0,
          6,
          0,
          1,
          -272,
          -6,
          0,
          44,
          0,
          0,
          -227,
          -5,
          0,
          35,
          0,
          5,
          -204,
          -6,
          0,
          4,
          0,
          7,
          -229,
          0,
          0,
          28,
          0,
          13,
          -209,
          -4,
          0,
          54,
          0
         ]
        }
       ],
       "layout": {
        "template": {
         "data": {
          "bar": [
           {
            "error_x": {
             "color": "rgb(36,36,36)"
            },
            "error_y": {
             "color": "rgb(36,36,36)"
            },
            "marker": {
             "line": {
              "color": "rgb(234,234,242)",
              "width": 0.5
             },
             "pattern": {
              "fillmode": "overlay",
              "size": 10,
              "solidity": 0.2
             }
            },
            "type": "bar"
           }
          ],
          "barpolar": [
           {
            "marker": {
             "line": {
              "color": "rgb(234,234,242)",
              "width": 0.5
             },
             "pattern": {
              "fillmode": "overlay",
              "size": 10,
              "solidity": 0.2
             }
            },
            "type": "barpolar"
           }
          ],
          "carpet": [
           {
            "aaxis": {
             "endlinecolor": "rgb(36,36,36)",
             "gridcolor": "white",
             "linecolor": "white",
             "minorgridcolor": "white",
             "startlinecolor": "rgb(36,36,36)"
            },
            "baxis": {
             "endlinecolor": "rgb(36,36,36)",
             "gridcolor": "white",
             "linecolor": "white",
             "minorgridcolor": "white",
             "startlinecolor": "rgb(36,36,36)"
            },
            "type": "carpet"
           }
          ],
          "choropleth": [
           {
            "colorbar": {
             "outlinewidth": 0,
             "tickcolor": "rgb(36,36,36)",
             "ticklen": 8,
             "ticks": "outside",
             "tickwidth": 2
            },
            "type": "choropleth"
           }
          ],
          "contour": [
           {
            "colorbar": {
             "outlinewidth": 0,
             "tickcolor": "rgb(36,36,36)",
             "ticklen": 8,
             "ticks": "outside",
             "tickwidth": 2
            },
            "colorscale": [
             [
              0,
              "rgb(2,4,25)"
             ],
             [
              0.06274509803921569,
              "rgb(24,15,41)"
             ],
             [
              0.12549019607843137,
              "rgb(47,23,57)"
             ],
             [
              0.18823529411764706,
              "rgb(71,28,72)"
             ],
             [
              0.25098039215686274,
              "rgb(97,30,82)"
             ],
             [
              0.3137254901960784,
              "rgb(123,30,89)"
             ],
             [
              0.3764705882352941,
              "rgb(150,27,91)"
             ],
             [
              0.4392156862745098,
              "rgb(177,22,88)"
             ],
             [
              0.5019607843137255,
              "rgb(203,26,79)"
             ],
             [
              0.5647058823529412,
              "rgb(223,47,67)"
             ],
             [
              0.6274509803921569,
              "rgb(236,76,61)"
             ],
             [
              0.6901960784313725,
              "rgb(242,107,73)"
             ],
             [
              0.7529411764705882,
              "rgb(244,135,95)"
             ],
             [
              0.8156862745098039,
              "rgb(245,162,122)"
             ],
             [
              0.8784313725490196,
              "rgb(246,188,153)"
             ],
             [
              0.9411764705882353,
              "rgb(247,212,187)"
             ],
             [
              1,
              "rgb(250,234,220)"
             ]
            ],
            "type": "contour"
           }
          ],
          "contourcarpet": [
           {
            "colorbar": {
             "outlinewidth": 0,
             "tickcolor": "rgb(36,36,36)",
             "ticklen": 8,
             "ticks": "outside",
             "tickwidth": 2
            },
            "type": "contourcarpet"
           }
          ],
          "heatmap": [
           {
            "colorbar": {
             "outlinewidth": 0,
             "tickcolor": "rgb(36,36,36)",
             "ticklen": 8,
             "ticks": "outside",
             "tickwidth": 2
            },
            "colorscale": [
             [
              0,
              "rgb(2,4,25)"
             ],
             [
              0.06274509803921569,
              "rgb(24,15,41)"
             ],
             [
              0.12549019607843137,
              "rgb(47,23,57)"
             ],
             [
              0.18823529411764706,
              "rgb(71,28,72)"
             ],
             [
              0.25098039215686274,
              "rgb(97,30,82)"
             ],
             [
              0.3137254901960784,
              "rgb(123,30,89)"
             ],
             [
              0.3764705882352941,
              "rgb(150,27,91)"
             ],
             [
              0.4392156862745098,
              "rgb(177,22,88)"
             ],
             [
              0.5019607843137255,
              "rgb(203,26,79)"
             ],
             [
              0.5647058823529412,
              "rgb(223,47,67)"
             ],
             [
              0.6274509803921569,
              "rgb(236,76,61)"
             ],
             [
              0.6901960784313725,
              "rgb(242,107,73)"
             ],
             [
              0.7529411764705882,
              "rgb(244,135,95)"
             ],
             [
              0.8156862745098039,
              "rgb(245,162,122)"
             ],
             [
              0.8784313725490196,
              "rgb(246,188,153)"
             ],
             [
              0.9411764705882353,
              "rgb(247,212,187)"
             ],
             [
              1,
              "rgb(250,234,220)"
             ]
            ],
            "type": "heatmap"
           }
          ],
          "heatmapgl": [
           {
            "colorbar": {
             "outlinewidth": 0,
             "tickcolor": "rgb(36,36,36)",
             "ticklen": 8,
             "ticks": "outside",
             "tickwidth": 2
            },
            "colorscale": [
             [
              0,
              "rgb(2,4,25)"
             ],
             [
              0.06274509803921569,
              "rgb(24,15,41)"
             ],
             [
              0.12549019607843137,
              "rgb(47,23,57)"
             ],
             [
              0.18823529411764706,
              "rgb(71,28,72)"
             ],
             [
              0.25098039215686274,
              "rgb(97,30,82)"
             ],
             [
              0.3137254901960784,
              "rgb(123,30,89)"
             ],
             [
              0.3764705882352941,
              "rgb(150,27,91)"
             ],
             [
              0.4392156862745098,
              "rgb(177,22,88)"
             ],
             [
              0.5019607843137255,
              "rgb(203,26,79)"
             ],
             [
              0.5647058823529412,
              "rgb(223,47,67)"
             ],
             [
              0.6274509803921569,
              "rgb(236,76,61)"
             ],
             [
              0.6901960784313725,
              "rgb(242,107,73)"
             ],
             [
              0.7529411764705882,
              "rgb(244,135,95)"
             ],
             [
              0.8156862745098039,
              "rgb(245,162,122)"
             ],
             [
              0.8784313725490196,
              "rgb(246,188,153)"
             ],
             [
              0.9411764705882353,
              "rgb(247,212,187)"
             ],
             [
              1,
              "rgb(250,234,220)"
             ]
            ],
            "type": "heatmapgl"
           }
          ],
          "histogram": [
           {
            "marker": {
             "pattern": {
              "fillmode": "overlay",
              "size": 10,
              "solidity": 0.2
             }
            },
            "type": "histogram"
           }
          ],
          "histogram2d": [
           {
            "colorbar": {
             "outlinewidth": 0,
             "tickcolor": "rgb(36,36,36)",
             "ticklen": 8,
             "ticks": "outside",
             "tickwidth": 2
            },
            "colorscale": [
             [
              0,
              "rgb(2,4,25)"
             ],
             [
              0.06274509803921569,
              "rgb(24,15,41)"
             ],
             [
              0.12549019607843137,
              "rgb(47,23,57)"
             ],
             [
              0.18823529411764706,
              "rgb(71,28,72)"
             ],
             [
              0.25098039215686274,
              "rgb(97,30,82)"
             ],
             [
              0.3137254901960784,
              "rgb(123,30,89)"
             ],
             [
              0.3764705882352941,
              "rgb(150,27,91)"
             ],
             [
              0.4392156862745098,
              "rgb(177,22,88)"
             ],
             [
              0.5019607843137255,
              "rgb(203,26,79)"
             ],
             [
              0.5647058823529412,
              "rgb(223,47,67)"
             ],
             [
              0.6274509803921569,
              "rgb(236,76,61)"
             ],
             [
              0.6901960784313725,
              "rgb(242,107,73)"
             ],
             [
              0.7529411764705882,
              "rgb(244,135,95)"
             ],
             [
              0.8156862745098039,
              "rgb(245,162,122)"
             ],
             [
              0.8784313725490196,
              "rgb(246,188,153)"
             ],
             [
              0.9411764705882353,
              "rgb(247,212,187)"
             ],
             [
              1,
              "rgb(250,234,220)"
             ]
            ],
            "type": "histogram2d"
           }
          ],
          "histogram2dcontour": [
           {
            "colorbar": {
             "outlinewidth": 0,
             "tickcolor": "rgb(36,36,36)",
             "ticklen": 8,
             "ticks": "outside",
             "tickwidth": 2
            },
            "colorscale": [
             [
              0,
              "rgb(2,4,25)"
             ],
             [
              0.06274509803921569,
              "rgb(24,15,41)"
             ],
             [
              0.12549019607843137,
              "rgb(47,23,57)"
             ],
             [
              0.18823529411764706,
              "rgb(71,28,72)"
             ],
             [
              0.25098039215686274,
              "rgb(97,30,82)"
             ],
             [
              0.3137254901960784,
              "rgb(123,30,89)"
             ],
             [
              0.3764705882352941,
              "rgb(150,27,91)"
             ],
             [
              0.4392156862745098,
              "rgb(177,22,88)"
             ],
             [
              0.5019607843137255,
              "rgb(203,26,79)"
             ],
             [
              0.5647058823529412,
              "rgb(223,47,67)"
             ],
             [
              0.6274509803921569,
              "rgb(236,76,61)"
             ],
             [
              0.6901960784313725,
              "rgb(242,107,73)"
             ],
             [
              0.7529411764705882,
              "rgb(244,135,95)"
             ],
             [
              0.8156862745098039,
              "rgb(245,162,122)"
             ],
             [
              0.8784313725490196,
              "rgb(246,188,153)"
             ],
             [
              0.9411764705882353,
              "rgb(247,212,187)"
             ],
             [
              1,
              "rgb(250,234,220)"
             ]
            ],
            "type": "histogram2dcontour"
           }
          ],
          "mesh3d": [
           {
            "colorbar": {
             "outlinewidth": 0,
             "tickcolor": "rgb(36,36,36)",
             "ticklen": 8,
             "ticks": "outside",
             "tickwidth": 2
            },
            "type": "mesh3d"
           }
          ],
          "parcoords": [
           {
            "line": {
             "colorbar": {
              "outlinewidth": 0,
              "tickcolor": "rgb(36,36,36)",
              "ticklen": 8,
              "ticks": "outside",
              "tickwidth": 2
             }
            },
            "type": "parcoords"
           }
          ],
          "pie": [
           {
            "automargin": true,
            "type": "pie"
           }
          ],
          "scatter": [
           {
            "marker": {
             "colorbar": {
              "outlinewidth": 0,
              "tickcolor": "rgb(36,36,36)",
              "ticklen": 8,
              "ticks": "outside",
              "tickwidth": 2
             }
            },
            "type": "scatter"
           }
          ],
          "scatter3d": [
           {
            "line": {
             "colorbar": {
              "outlinewidth": 0,
              "tickcolor": "rgb(36,36,36)",
              "ticklen": 8,
              "ticks": "outside",
              "tickwidth": 2
             }
            },
            "marker": {
             "colorbar": {
              "outlinewidth": 0,
              "tickcolor": "rgb(36,36,36)",
              "ticklen": 8,
              "ticks": "outside",
              "tickwidth": 2
             }
            },
            "type": "scatter3d"
           }
          ],
          "scattercarpet": [
           {
            "marker": {
             "colorbar": {
              "outlinewidth": 0,
              "tickcolor": "rgb(36,36,36)",
              "ticklen": 8,
              "ticks": "outside",
              "tickwidth": 2
             }
            },
            "type": "scattercarpet"
           }
          ],
          "scattergeo": [
           {
            "marker": {
             "colorbar": {
              "outlinewidth": 0,
              "tickcolor": "rgb(36,36,36)",
              "ticklen": 8,
              "ticks": "outside",
              "tickwidth": 2
             }
            },
            "type": "scattergeo"
           }
          ],
          "scattergl": [
           {
            "marker": {
             "colorbar": {
              "outlinewidth": 0,
              "tickcolor": "rgb(36,36,36)",
              "ticklen": 8,
              "ticks": "outside",
              "tickwidth": 2
             }
            },
            "type": "scattergl"
           }
          ],
          "scattermapbox": [
           {
            "marker": {
             "colorbar": {
              "outlinewidth": 0,
              "tickcolor": "rgb(36,36,36)",
              "ticklen": 8,
              "ticks": "outside",
              "tickwidth": 2
             }
            },
            "type": "scattermapbox"
           }
          ],
          "scatterpolar": [
           {
            "marker": {
             "colorbar": {
              "outlinewidth": 0,
              "tickcolor": "rgb(36,36,36)",
              "ticklen": 8,
              "ticks": "outside",
              "tickwidth": 2
             }
            },
            "type": "scatterpolar"
           }
          ],
          "scatterpolargl": [
           {
            "marker": {
             "colorbar": {
              "outlinewidth": 0,
              "tickcolor": "rgb(36,36,36)",
              "ticklen": 8,
              "ticks": "outside",
              "tickwidth": 2
             }
            },
            "type": "scatterpolargl"
           }
          ],
          "scatterternary": [
           {
            "marker": {
             "colorbar": {
              "outlinewidth": 0,
              "tickcolor": "rgb(36,36,36)",
              "ticklen": 8,
              "ticks": "outside",
              "tickwidth": 2
             }
            },
            "type": "scatterternary"
           }
          ],
          "surface": [
           {
            "colorbar": {
             "outlinewidth": 0,
             "tickcolor": "rgb(36,36,36)",
             "ticklen": 8,
             "ticks": "outside",
             "tickwidth": 2
            },
            "colorscale": [
             [
              0,
              "rgb(2,4,25)"
             ],
             [
              0.06274509803921569,
              "rgb(24,15,41)"
             ],
             [
              0.12549019607843137,
              "rgb(47,23,57)"
             ],
             [
              0.18823529411764706,
              "rgb(71,28,72)"
             ],
             [
              0.25098039215686274,
              "rgb(97,30,82)"
             ],
             [
              0.3137254901960784,
              "rgb(123,30,89)"
             ],
             [
              0.3764705882352941,
              "rgb(150,27,91)"
             ],
             [
              0.4392156862745098,
              "rgb(177,22,88)"
             ],
             [
              0.5019607843137255,
              "rgb(203,26,79)"
             ],
             [
              0.5647058823529412,
              "rgb(223,47,67)"
             ],
             [
              0.6274509803921569,
              "rgb(236,76,61)"
             ],
             [
              0.6901960784313725,
              "rgb(242,107,73)"
             ],
             [
              0.7529411764705882,
              "rgb(244,135,95)"
             ],
             [
              0.8156862745098039,
              "rgb(245,162,122)"
             ],
             [
              0.8784313725490196,
              "rgb(246,188,153)"
             ],
             [
              0.9411764705882353,
              "rgb(247,212,187)"
             ],
             [
              1,
              "rgb(250,234,220)"
             ]
            ],
            "type": "surface"
           }
          ],
          "table": [
           {
            "cells": {
             "fill": {
              "color": "rgb(231,231,240)"
             },
             "line": {
              "color": "white"
             }
            },
            "header": {
             "fill": {
              "color": "rgb(183,183,191)"
             },
             "line": {
              "color": "white"
             }
            },
            "type": "table"
           }
          ]
         },
         "layout": {
          "annotationdefaults": {
           "arrowcolor": "rgb(67,103,167)"
          },
          "autotypenumbers": "strict",
          "coloraxis": {
           "colorbar": {
            "outlinewidth": 0,
            "tickcolor": "rgb(36,36,36)",
            "ticklen": 8,
            "ticks": "outside",
            "tickwidth": 2
           }
          },
          "colorscale": {
           "sequential": [
            [
             0,
             "rgb(2,4,25)"
            ],
            [
             0.06274509803921569,
             "rgb(24,15,41)"
            ],
            [
             0.12549019607843137,
             "rgb(47,23,57)"
            ],
            [
             0.18823529411764706,
             "rgb(71,28,72)"
            ],
            [
             0.25098039215686274,
             "rgb(97,30,82)"
            ],
            [
             0.3137254901960784,
             "rgb(123,30,89)"
            ],
            [
             0.3764705882352941,
             "rgb(150,27,91)"
            ],
            [
             0.4392156862745098,
             "rgb(177,22,88)"
            ],
            [
             0.5019607843137255,
             "rgb(203,26,79)"
            ],
            [
             0.5647058823529412,
             "rgb(223,47,67)"
            ],
            [
             0.6274509803921569,
             "rgb(236,76,61)"
            ],
            [
             0.6901960784313725,
             "rgb(242,107,73)"
            ],
            [
             0.7529411764705882,
             "rgb(244,135,95)"
            ],
            [
             0.8156862745098039,
             "rgb(245,162,122)"
            ],
            [
             0.8784313725490196,
             "rgb(246,188,153)"
            ],
            [
             0.9411764705882353,
             "rgb(247,212,187)"
            ],
            [
             1,
             "rgb(250,234,220)"
            ]
           ],
           "sequentialminus": [
            [
             0,
             "rgb(2,4,25)"
            ],
            [
             0.06274509803921569,
             "rgb(24,15,41)"
            ],
            [
             0.12549019607843137,
             "rgb(47,23,57)"
            ],
            [
             0.18823529411764706,
             "rgb(71,28,72)"
            ],
            [
             0.25098039215686274,
             "rgb(97,30,82)"
            ],
            [
             0.3137254901960784,
             "rgb(123,30,89)"
            ],
            [
             0.3764705882352941,
             "rgb(150,27,91)"
            ],
            [
             0.4392156862745098,
             "rgb(177,22,88)"
            ],
            [
             0.5019607843137255,
             "rgb(203,26,79)"
            ],
            [
             0.5647058823529412,
             "rgb(223,47,67)"
            ],
            [
             0.6274509803921569,
             "rgb(236,76,61)"
            ],
            [
             0.6901960784313725,
             "rgb(242,107,73)"
            ],
            [
             0.7529411764705882,
             "rgb(244,135,95)"
            ],
            [
             0.8156862745098039,
             "rgb(245,162,122)"
            ],
            [
             0.8784313725490196,
             "rgb(246,188,153)"
            ],
            [
             0.9411764705882353,
             "rgb(247,212,187)"
            ],
            [
             1,
             "rgb(250,234,220)"
            ]
           ]
          },
          "colorway": [
           "rgb(76,114,176)",
           "rgb(221,132,82)",
           "rgb(85,168,104)",
           "rgb(196,78,82)",
           "rgb(129,114,179)",
           "rgb(147,120,96)",
           "rgb(218,139,195)",
           "rgb(140,140,140)",
           "rgb(204,185,116)",
           "rgb(100,181,205)"
          ],
          "font": {
           "color": "rgb(36,36,36)"
          },
          "geo": {
           "bgcolor": "white",
           "lakecolor": "white",
           "landcolor": "rgb(234,234,242)",
           "showlakes": true,
           "showland": true,
           "subunitcolor": "white"
          },
          "hoverlabel": {
           "align": "left"
          },
          "hovermode": "closest",
          "paper_bgcolor": "white",
          "plot_bgcolor": "rgb(234,234,242)",
          "polar": {
           "angularaxis": {
            "gridcolor": "white",
            "linecolor": "white",
            "showgrid": true,
            "ticks": ""
           },
           "bgcolor": "rgb(234,234,242)",
           "radialaxis": {
            "gridcolor": "white",
            "linecolor": "white",
            "showgrid": true,
            "ticks": ""
           }
          },
          "scene": {
           "xaxis": {
            "backgroundcolor": "rgb(234,234,242)",
            "gridcolor": "white",
            "gridwidth": 2,
            "linecolor": "white",
            "showbackground": true,
            "showgrid": true,
            "ticks": "",
            "zerolinecolor": "white"
           },
           "yaxis": {
            "backgroundcolor": "rgb(234,234,242)",
            "gridcolor": "white",
            "gridwidth": 2,
            "linecolor": "white",
            "showbackground": true,
            "showgrid": true,
            "ticks": "",
            "zerolinecolor": "white"
           },
           "zaxis": {
            "backgroundcolor": "rgb(234,234,242)",
            "gridcolor": "white",
            "gridwidth": 2,
            "linecolor": "white",
            "showbackground": true,
            "showgrid": true,
            "ticks": "",
            "zerolinecolor": "white"
           }
          },
          "shapedefaults": {
           "fillcolor": "rgb(67,103,167)",
           "line": {
            "width": 0
           },
           "opacity": 0.5
          },
          "ternary": {
           "aaxis": {
            "gridcolor": "white",
            "linecolor": "white",
            "showgrid": true,
            "ticks": ""
           },
           "baxis": {
            "gridcolor": "white",
            "linecolor": "white",
            "showgrid": true,
            "ticks": ""
           },
           "bgcolor": "rgb(234,234,242)",
           "caxis": {
            "gridcolor": "white",
            "linecolor": "white",
            "showgrid": true,
            "ticks": ""
           }
          },
          "xaxis": {
           "automargin": true,
           "gridcolor": "white",
           "linecolor": "white",
           "showgrid": true,
           "ticks": "",
           "title": {
            "standoff": 15
           },
           "zerolinecolor": "white"
          },
          "yaxis": {
           "automargin": true,
           "gridcolor": "white",
           "linecolor": "white",
           "showgrid": true,
           "ticks": "",
           "title": {
            "standoff": 15
           },
           "zerolinecolor": "white"
          }
         }
        },
        "title": {
         "text": "Commercial banks consolitation 2000-2020"
        },
        "xaxis": {
         "tickangle": -90
        },
        "yaxis": {
         "range": [
          4000,
          8500
         ]
        }
       }
      }
     },
     "metadata": {},
     "output_type": "display_data"
    }
   ],
   "source": [
    "data = waterfall_df_com.copy()\n",
    "x = data['Category']\n",
    "y = data['Value']\n",
    "measure = data['Measure Type']\n",
    "fig = go.Figure(go.Waterfall(measure=measure, x=x, y=y))\n",
    "fig.update_layout(title=\"Commercial banks consolitation 2000-2020\",\n",
    "                  xaxis = go.layout.XAxis(tickangle = 270))\n",
    "fig.update_yaxes(range=[4000, 8500])"
   ]
  },
  {
   "cell_type": "markdown",
   "metadata": {},
   "source": [
    "### 3.3 - Validate User Input for GUI"
   ]
  },
  {
   "cell_type": "code",
   "execution_count": 55,
   "metadata": {},
   "outputs": [],
   "source": [
    "def ValidateInputYears(minyear, maxyear):\n",
    "    try:\n",
    "        min = int(minyear)\n",
    "        max = int(maxyear)\n",
    "    except:\n",
    "        raise TypeError()\n",
    "\n",
    "    if min < 2000 or max < 2000 or min > 2020 or max > 2020:\n",
    "        raise ValueError()\n",
    "    elif max < min:\n",
    "        raise ValueError()\n",
    "\n",
    "    return min, max"
   ]
  },
  {
   "cell_type": "code",
   "execution_count": 56,
   "metadata": {},
   "outputs": [
    {
     "name": "stderr",
     "output_type": "stream",
     "text": [
      "....\n",
      "----------------------------------------------------------------------\n",
      "Ran 4 tests in 0.009s\n",
      "\n",
      "OK\n"
     ]
    },
    {
     "data": {
      "text/plain": [
       "<unittest.main.TestProgram at 0x13c1ea2d820>"
      ]
     },
     "execution_count": 56,
     "metadata": {},
     "output_type": "execute_result"
    }
   ],
   "source": [
    "import unittest\n",
    "\n",
    "class UserInputsTest(unittest.TestCase):\n",
    "\n",
    "    def test_nan_inputs(self):\n",
    "\n",
    "        # Looking for Type Errors\n",
    "        with self.assertRaises(TypeError): ValidateInputYears('', '')\n",
    "        with self.assertRaises(TypeError): ValidateInputYears('Five', 'Two')\n",
    "        with self.assertRaises(TypeError): ValidateInputYears('2010', '')\n",
    "        with self.assertRaises(TypeError): ValidateInputYears('', '2010')\n",
    "        with self.assertRaises(TypeError): ValidateInputYears('abc', 'def')\n",
    "\n",
    "    def test_out_of_range_inputs(self):\n",
    "\n",
    "        # Looking for Value Errors\n",
    "        with self.assertRaises(ValueError): ValidateInputYears('1999', '2010')\n",
    "        with self.assertRaises(ValueError): ValidateInputYears('2000', '2021')\n",
    "        with self.assertRaises(ValueError): ValidateInputYears('1800', '2200')\n",
    "\n",
    "    def test_min_max_combo_inputs(self):\n",
    "\n",
    "        # Looking for Value Error\n",
    "        with self.assertRaises(ValueError): ValidateInputYears('2010', '2000')\n",
    "\n",
    "    def test_valid_inputs(self):\n",
    "\n",
    "        # Set Up\n",
    "        min1, max1 = ValidateInputYears('2000', '2020')\n",
    "        min2, max2 = ValidateInputYears('2005', '2008')\n",
    "        min3, max3 = ValidateInputYears('2010', '2010')\n",
    "\n",
    "        # Test Valid Inputs\n",
    "        self.assertEqual(min1, 2000)\n",
    "        self.assertEqual(min2, 2005)\n",
    "        self.assertEqual(min3, 2010)\n",
    "        self.assertEqual(max1, 2020)\n",
    "        self.assertEqual(max2, 2008)\n",
    "        self.assertEqual(max3, 2010)\n",
    "\n",
    "\n",
    "unittest.main(argv=[''], exit = False)"
   ]
  },
  {
   "cell_type": "markdown",
   "metadata": {},
   "source": [
    "## Conclusions future improvements"
   ]
  },
  {
   "cell_type": "code",
   "execution_count": null,
   "metadata": {},
   "outputs": [],
   "source": []
  }
 ],
 "metadata": {
  "celltoolbar": "Slideshow",
  "kernelspec": {
   "display_name": "Python 3",
   "language": "python",
   "name": "python3"
  },
  "language_info": {
   "codemirror_mode": {
    "name": "ipython",
    "version": 3
   },
   "file_extension": ".py",
   "mimetype": "text/x-python",
   "name": "python",
   "nbconvert_exporter": "python",
   "pygments_lexer": "ipython3",
   "version": "3.8.8"
  }
 },
 "nbformat": 4,
 "nbformat_minor": 4
}
