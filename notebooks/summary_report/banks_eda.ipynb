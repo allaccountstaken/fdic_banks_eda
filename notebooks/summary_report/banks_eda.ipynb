{
 "cells": [
  {
   "cell_type": "markdown",
   "metadata": {
    "slideshow": {
     "slide_type": "slide"
    }
   },
   "source": [
    "# Exploratory data analysis (EDA) of regulated banks"
   ]
  },
  {
   "cell_type": "markdown",
   "metadata": {
    "slideshow": {
     "slide_type": "slide"
    }
   },
   "source": [
    "![](fdic_hq.jpeg)"
   ]
  },
  {
   "cell_type": "markdown",
   "metadata": {
    "slideshow": {
     "slide_type": "slide"
    }
   },
   "source": [
    "Outline:\n",
    "1. Business context - although costly, failed banks do not fully explain decrease in number of banks\n",
    "    * Costs of failed banks from FDIC website\n",
    "    * Web scraping details of failed banks\n",
    "    * API client total number of banks\n",
    "2. Historical events database - Commercial vs Savings banks\n",
    "    * De novo banks (*newly established institutions with no existing. operations and new institutions that result from the conversion of an operating, non-insured entity -- they can't fail during the first 5 years*)\n",
    "    * Mergers, acquisitions, branch sales and conversions...\n",
    "        - More than 2 banks merging into 1 entity\n",
    "        - Several banks acquired by 1 bank\n",
    "        - Branch sales to do change Certificate IDs\n",
    "        - But conversions sometimes do change IDs\n",
    "    * Voluntary liquidation, charter changes and transfers\n",
    "        - check with Cullan\n",
    "    * Failures, paid offs vs assistance\n",
    "        - check\n",
    "3. Waterfall chart as an interactive tool \n",
    "    * Commercial banks consolidation \n",
    "    * Savings banks consolidation \n",
    "    * Industry as a whole \n",
    "4. Local GUI for customized querying \n",
    "    * Inputed years outside the range\n",
    "    * Example of a successful query \n",
    "    * Data download functionality "
   ]
  },
  {
   "cell_type": "markdown",
   "metadata": {
    "slideshow": {
     "slide_type": "slide"
    }
   },
   "source": [
    "## 1. FDIC insurance\n",
    "is required for most of US credit institutions including commercial banks and savings institutions..."
   ]
  },
  {
   "cell_type": "code",
   "execution_count": 66,
   "metadata": {
    "slideshow": {
     "slide_type": "skip"
    }
   },
   "outputs": [],
   "source": [
    "import numpy as np\n",
    "import pandas as pd\n",
    "import matplotlib.pyplot as plt\n",
    "import seaborn as sns\n",
    "sns.set()"
   ]
  },
  {
   "cell_type": "markdown",
   "metadata": {},
   "source": [
    "### 1.1 Costs of failed banks\n",
    "The dataset was retrieved on 10/22/2021 using download functionality. It contains information about recently (last 20 years) failed banks, i.e. name of the bank and IDs, date of restructuring and costs. Source: https://www.fdic.gov/resources/resolutions/bank-failures/failed-bank-list/"
   ]
  },
  {
   "cell_type": "markdown",
   "metadata": {},
   "source": [
    "#### 1.1.1 Imputing missing values of COSTS\n",
    "The data set had several issues that required data cleaning and transformation. First, loading the dataset, dropping unused columns and checking missing values."
   ]
  },
  {
   "cell_type": "code",
   "execution_count": 132,
   "metadata": {},
   "outputs": [
    {
     "data": {
      "text/plain": [
       "14"
      ]
     },
     "execution_count": 132,
     "metadata": {},
     "output_type": "execute_result"
    }
   ],
   "source": [
    "costs = pd.read_csv('../../data/failed_banks.csv', index_col=0)\n",
    "costs.drop(['FIN', 'ID', 'RESTYPE1', 'SAVR' ], axis=1, inplace=True)\n",
    "costs.isnull().sum().sum()"
   ]
  },
  {
   "cell_type": "markdown",
   "metadata": {},
   "source": [
    "It appears that 14 failed banks have NaN for restructuring costs. These missing values can be imputed either with zeros, or column average, or, even better, average % of costs to assets, as restructuring a bigger bank is more expensive. Need to check how these missing values related to the type pf resolution, RESTYPE. As shown below, there are 2 types - ASSISTANCE and FAILURE"
   ]
  },
  {
   "cell_type": "code",
   "execution_count": 133,
   "metadata": {},
   "outputs": [
    {
     "data": {
      "text/html": [
       "<div>\n",
       "<style scoped>\n",
       "    .dataframe tbody tr th:only-of-type {\n",
       "        vertical-align: middle;\n",
       "    }\n",
       "\n",
       "    .dataframe tbody tr th {\n",
       "        vertical-align: top;\n",
       "    }\n",
       "\n",
       "    .dataframe thead th {\n",
       "        text-align: right;\n",
       "    }\n",
       "</style>\n",
       "<table border=\"1\" class=\"dataframe\">\n",
       "  <thead>\n",
       "    <tr style=\"text-align: right;\">\n",
       "      <th></th>\n",
       "      <th>CHCLASS1</th>\n",
       "      <th>CITYST</th>\n",
       "      <th>COST</th>\n",
       "      <th>FAILDATE</th>\n",
       "      <th>NAME</th>\n",
       "      <th>QBFASSET</th>\n",
       "      <th>QBFDEP</th>\n",
       "    </tr>\n",
       "    <tr>\n",
       "      <th>RESTYPE</th>\n",
       "      <th></th>\n",
       "      <th></th>\n",
       "      <th></th>\n",
       "      <th></th>\n",
       "      <th></th>\n",
       "      <th></th>\n",
       "      <th></th>\n",
       "    </tr>\n",
       "  </thead>\n",
       "  <tbody>\n",
       "    <tr>\n",
       "      <th>ASSISTANCE</th>\n",
       "      <td>13</td>\n",
       "      <td>13</td>\n",
       "      <td>0</td>\n",
       "      <td>13</td>\n",
       "      <td>13</td>\n",
       "      <td>13</td>\n",
       "      <td>13</td>\n",
       "    </tr>\n",
       "    <tr>\n",
       "      <th>FAILURE</th>\n",
       "      <td>564</td>\n",
       "      <td>564</td>\n",
       "      <td>563</td>\n",
       "      <td>564</td>\n",
       "      <td>564</td>\n",
       "      <td>564</td>\n",
       "      <td>564</td>\n",
       "    </tr>\n",
       "  </tbody>\n",
       "</table>\n",
       "</div>"
      ],
      "text/plain": [
       "            CHCLASS1  CITYST  COST  FAILDATE  NAME  QBFASSET  QBFDEP\n",
       "RESTYPE                                                             \n",
       "ASSISTANCE        13      13     0        13    13        13      13\n",
       "FAILURE          564     564   563       564   564       564     564"
      ]
     },
     "execution_count": 133,
     "metadata": {},
     "output_type": "execute_result"
    }
   ],
   "source": [
    "costs.groupby([costs['RESTYPE']]).count()"
   ]
  },
  {
   "cell_type": "markdown",
   "metadata": {},
   "source": [
    "Comparing groupings with missing values. It appears that all 13 ASSISTANCE cases have NaN for COST and thus it is warranted to impute these values with zeros. In other words, assistance is not a failure and there are no direct costs associated with bank's restructuring in this case. There is only one (\"NET FIRST NATIONAL BANK\") missing value in case of an actual FAILURE and it should probably be imputed with some kind of proxy for COST."
   ]
  },
  {
   "cell_type": "code",
   "execution_count": 134,
   "metadata": {},
   "outputs": [
    {
     "data": {
      "text/html": [
       "<div>\n",
       "<style scoped>\n",
       "    .dataframe tbody tr th:only-of-type {\n",
       "        vertical-align: middle;\n",
       "    }\n",
       "\n",
       "    .dataframe tbody tr th {\n",
       "        vertical-align: top;\n",
       "    }\n",
       "\n",
       "    .dataframe thead th {\n",
       "        text-align: right;\n",
       "    }\n",
       "</style>\n",
       "<table border=\"1\" class=\"dataframe\">\n",
       "  <thead>\n",
       "    <tr style=\"text-align: right;\">\n",
       "      <th></th>\n",
       "      <th>CHCLASS1</th>\n",
       "      <th>CITYST</th>\n",
       "      <th>COST</th>\n",
       "      <th>FAILDATE</th>\n",
       "      <th>NAME</th>\n",
       "      <th>QBFASSET</th>\n",
       "      <th>QBFDEP</th>\n",
       "    </tr>\n",
       "    <tr>\n",
       "      <th>RESTYPE</th>\n",
       "      <th></th>\n",
       "      <th></th>\n",
       "      <th></th>\n",
       "      <th></th>\n",
       "      <th></th>\n",
       "      <th></th>\n",
       "      <th></th>\n",
       "    </tr>\n",
       "  </thead>\n",
       "  <tbody>\n",
       "    <tr>\n",
       "      <th>ASSISTANCE</th>\n",
       "      <td>13</td>\n",
       "      <td>13</td>\n",
       "      <td>0</td>\n",
       "      <td>13</td>\n",
       "      <td>13</td>\n",
       "      <td>13</td>\n",
       "      <td>13</td>\n",
       "    </tr>\n",
       "    <tr>\n",
       "      <th>FAILURE</th>\n",
       "      <td>1</td>\n",
       "      <td>1</td>\n",
       "      <td>0</td>\n",
       "      <td>1</td>\n",
       "      <td>1</td>\n",
       "      <td>1</td>\n",
       "      <td>1</td>\n",
       "    </tr>\n",
       "  </tbody>\n",
       "</table>\n",
       "</div>"
      ],
      "text/plain": [
       "            CHCLASS1  CITYST  COST  FAILDATE  NAME  QBFASSET  QBFDEP\n",
       "RESTYPE                                                             \n",
       "ASSISTANCE        13      13     0        13    13        13      13\n",
       "FAILURE            1       1     0         1     1         1       1"
      ]
     },
     "execution_count": 134,
     "metadata": {},
     "output_type": "execute_result"
    }
   ],
   "source": [
    "missing_data = costs[costs.isnull().any(axis=1)]\n",
    "missing_data.groupby([missing_data['RESTYPE']]).count()"
   ]
  },
  {
   "cell_type": "markdown",
   "metadata": {},
   "source": [
    "Using relative costs seems warranted in this case - need to compute mean of COST / QBFASSET and apply it to the bank's assets to estimate possible restructuring costs. The overall average is around 23%."
   ]
  },
  {
   "cell_type": "code",
   "execution_count": 135,
   "metadata": {},
   "outputs": [
    {
     "data": {
      "text/plain": [
       "0.23"
      ]
     },
     "execution_count": 135,
     "metadata": {},
     "output_type": "execute_result"
    }
   ],
   "source": [
    "avg_CostsToAssets  = np.round(np.mean(costs['COST']/costs['QBFASSET']), 2)\n",
    "avg_CostsToAssets"
   ]
  },
  {
   "cell_type": "markdown",
   "metadata": {},
   "source": [
    "After the COST value was imputed with the multiplier `avg_CostsToAssets`:"
   ]
  },
  {
   "cell_type": "code",
   "execution_count": 136,
   "metadata": {},
   "outputs": [
    {
     "data": {
      "text/plain": [
       "CHCLASS1                          N\n",
       "CITYST               BOCA RATON, FL\n",
       "COST                     7268.23000\n",
       "FAILDATE                 03/01/2002\n",
       "NAME        NET FIRST NATIONAL BANK\n",
       "QBFASSET                      37207\n",
       "QBFDEP                        31601\n",
       "RESTYPE                     FAILURE\n",
       "Name: 26652, dtype: object"
      ]
     },
     "execution_count": 136,
     "metadata": {},
     "output_type": "execute_result"
    }
   ],
   "source": [
    "costs.iloc[561, 2] = costs.iloc[561, 6] * avg_CostsToAssets\n",
    "costs.iloc[561, ]"
   ]
  },
  {
   "cell_type": "markdown",
   "metadata": {},
   "source": [
    "After this imputation all remaining 13 missing values are associated with assistance RESTYPE and thus should have zero COST, i.e. one can impute these missing values with zeros."
   ]
  },
  {
   "cell_type": "code",
   "execution_count": 137,
   "metadata": {},
   "outputs": [
    {
     "data": {
      "text/html": [
       "<div>\n",
       "<style scoped>\n",
       "    .dataframe tbody tr th:only-of-type {\n",
       "        vertical-align: middle;\n",
       "    }\n",
       "\n",
       "    .dataframe tbody tr th {\n",
       "        vertical-align: top;\n",
       "    }\n",
       "\n",
       "    .dataframe thead th {\n",
       "        text-align: right;\n",
       "    }\n",
       "</style>\n",
       "<table border=\"1\" class=\"dataframe\">\n",
       "  <thead>\n",
       "    <tr style=\"text-align: right;\">\n",
       "      <th></th>\n",
       "      <th>CHCLASS1</th>\n",
       "      <th>CITYST</th>\n",
       "      <th>COST</th>\n",
       "      <th>FAILDATE</th>\n",
       "      <th>NAME</th>\n",
       "      <th>QBFASSET</th>\n",
       "      <th>QBFDEP</th>\n",
       "    </tr>\n",
       "    <tr>\n",
       "      <th>RESTYPE</th>\n",
       "      <th></th>\n",
       "      <th></th>\n",
       "      <th></th>\n",
       "      <th></th>\n",
       "      <th></th>\n",
       "      <th></th>\n",
       "      <th></th>\n",
       "    </tr>\n",
       "  </thead>\n",
       "  <tbody>\n",
       "    <tr>\n",
       "      <th>ASSISTANCE</th>\n",
       "      <td>13</td>\n",
       "      <td>13</td>\n",
       "      <td>0</td>\n",
       "      <td>13</td>\n",
       "      <td>13</td>\n",
       "      <td>13</td>\n",
       "      <td>13</td>\n",
       "    </tr>\n",
       "  </tbody>\n",
       "</table>\n",
       "</div>"
      ],
      "text/plain": [
       "            CHCLASS1  CITYST  COST  FAILDATE  NAME  QBFASSET  QBFDEP\n",
       "RESTYPE                                                             \n",
       "ASSISTANCE        13      13     0        13    13        13      13"
      ]
     },
     "execution_count": 137,
     "metadata": {},
     "output_type": "execute_result"
    }
   ],
   "source": [
    "costs[costs.isnull().any(axis=1)].groupby(\"RESTYPE\").count()"
   ]
  },
  {
   "cell_type": "code",
   "execution_count": 138,
   "metadata": {},
   "outputs": [],
   "source": [
    "costs['COST'].replace(np.nan, 0, inplace=True)"
   ]
  },
  {
   "cell_type": "markdown",
   "metadata": {},
   "source": [
    "The resulting DataFrame `costs` does not have any missing values."
   ]
  },
  {
   "cell_type": "code",
   "execution_count": 139,
   "metadata": {},
   "outputs": [
    {
     "data": {
      "text/plain": [
       "0"
      ]
     },
     "execution_count": 139,
     "metadata": {},
     "output_type": "execute_result"
    }
   ],
   "source": [
    "costs.isnull().sum().sum()"
   ]
  },
  {
   "cell_type": "markdown",
   "metadata": {},
   "source": [
    "#### 1.1.2 Converting and splitting FAILDATE\n",
    "Column FAILDATE has information about when the bank has failed, it needs to be converted to `datetime` object and preferably split into for time series analysis."
   ]
  },
  {
   "cell_type": "code",
   "execution_count": 141,
   "metadata": {},
   "outputs": [],
   "source": [
    "costs['DATE'] = pd.to_datetime(costs['FAILDATE'])\n",
    "costs.drop('FAILDATE', axis=1, inplace=True)"
   ]
  },
  {
   "cell_type": "markdown",
   "metadata": {},
   "source": [
    "Split the DATE column so that information about the year and month of failure are stored in separate columns. "
   ]
  },
  {
   "cell_type": "code",
   "execution_count": 143,
   "metadata": {},
   "outputs": [],
   "source": [
    "costs['YEAR_FAILED'] = costs['DATE'].dt.year.astype('Int64')\n",
    "costs['MONTH_FAILED'] = costs['DATE'].dt.month.astype('Int64')\n",
    "costs['QUARTER_FAILED'] = pd.PeriodIndex(costs.DATE, freq='Q')"
   ]
  },
  {
   "cell_type": "markdown",
   "metadata": {},
   "source": [
    "#### 1.1.3 Plotting distributions and cumsum of COSTS"
   ]
  },
  {
   "cell_type": "code",
   "execution_count": 145,
   "metadata": {
    "slideshow": {
     "slide_type": "slide"
    }
   },
   "outputs": [
    {
     "data": {
      "image/png": "[encoded data removed]",
      "text/plain": [
       "<Figure size 1512x504 with 1 Axes>"
      ]
     },
     "metadata": {},
     "output_type": "display_data"
    }
   ],
   "source": [
    "costs.groupby(['YEAR_FAILED'])['COST'].sum().plot(kind='bar',\n",
    "                                               figsize=(21, 7),\n",
    "                                               label='Costs of failed ($ in thousands)')\n",
    "plt.title(\"Distribution of failed banks 'COST' by 'YEAR_FAILED' (2000-2020) picked in 2009\", y=1.01, fontsize=16)\n",
    "plt.ylabel(\"Costs of failed banks\", labelpad=5)\n",
    "plt.xlabel(\"Year\", labelpad=15)\n",
    "plt.legend()\n",
    "plt.show()"
   ]
  },
  {
   "cell_type": "code",
   "execution_count": 146,
   "metadata": {
    "slideshow": {
     "slide_type": "slide"
    }
   },
   "outputs": [
    {
     "data": {
      "image/png": "[encoded data removed]",
      "text/plain": [
       "<Figure size 1512x504 with 1 Axes>"
      ]
     },
     "metadata": {},
     "output_type": "display_data"
    }
   ],
   "source": [
    "costs.groupby(costs['YEAR_FAILED'])['COST'].sum().cumsum(axis=0).round(2).plot(\n",
    "kind='bar', figsize=(21, 7), label=\"Costs of failed banks ($ in thousands)\")\n",
    "plt.title(\"Cumsum of failed banks 'COST' by 'YEAR_FAILED' (2000-2020) adds up to 70B+\", y=1.01, fontsize=16)\n",
    "plt.ylabel(\"Costs of failed banks\", labelpad=5)\n",
    "plt.xlabel(\"Year\", labelpad=15)\n",
    "plt.legend()\n",
    "plt.show()"
   ]
  },
  {
   "cell_type": "markdown",
   "metadata": {},
   "source": [
    "### 1.2. Details of failed banks\n",
    "Built a custom scraper to access some FDIC tables published on the official web site \"https://www.fdic.gov/resources/resolutions/bank-failures/failed-bank-list/\""
   ]
  },
  {
   "cell_type": "code",
   "execution_count": null,
   "metadata": {},
   "outputs": [],
   "source": []
  }
 ],
 "metadata": {
  "celltoolbar": "Slideshow",
  "kernelspec": {
   "display_name": "Python 3",
   "language": "python",
   "name": "python3"
  },
  "language_info": {
   "codemirror_mode": {
    "name": "ipython",
    "version": 3
   },
   "file_extension": ".py",
   "mimetype": "text/x-python",
   "name": "python",
   "nbconvert_exporter": "python",
   "pygments_lexer": "ipython3",
   "version": "3.8.3"
  }
 },
 "nbformat": 4,
 "nbformat_minor": 4
}
